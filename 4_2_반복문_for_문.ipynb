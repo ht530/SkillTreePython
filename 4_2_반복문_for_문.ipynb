{
  "nbformat": 4,
  "nbformat_minor": 0,
  "metadata": {
    "colab": {
      "provenance": [],
      "include_colab_link": true
    },
    "kernelspec": {
      "name": "python3",
      "display_name": "Python 3"
    },
    "language_info": {
      "name": "python"
    }
  },
  "cells": [
    {
      "cell_type": "markdown",
      "metadata": {
        "id": "view-in-github",
        "colab_type": "text"
      },
      "source": [
        "<a href=\"https://colab.research.google.com/github/ht530/SkillTreePython/blob/main/4_2_%EB%B0%98%EB%B3%B5%EB%AC%B8_for_%EB%AC%B8.ipynb\" target=\"_parent\"><img src=\"https://colab.research.google.com/assets/colab-badge.svg\" alt=\"Open In Colab\"/></a>"
      ]
    },
    {
      "cell_type": "markdown",
      "source": [
        "# 4-2. 조건문 : for 문\n",
        "---\n",
        "* 날짜: 2023-01-03\n",
        "* 이름: 최형택"
      ],
      "metadata": {
        "id": "kB5IciXEm6o4"
      }
    },
    {
      "cell_type": "code",
      "source": [],
      "metadata": {
        "id": "bShOgVWXkrMq"
      },
      "execution_count": null,
      "outputs": []
    },
    {
      "cell_type": "markdown",
      "source": [
        "## 개념정리\n",
        "---\n",
        "\n",
        "반복문은 특정 조건에 따라 반복문 코드 블럭 안의 내용을 반복합니다. 반복문을 잘 사용하면 100번 써야 할 일을 한번에 끝낼 수 있습니다. 반복문에는 `for문`과 `while문` 이 있습니다. 오늘 배울 `for문`은 처음부터 반복의 횟수를 정해줍니다. \n",
        "\n"
      ],
      "metadata": {
        "id": "4iN8NFzHRJ2D"
      }
    },
    {
      "cell_type": "markdown",
      "source": [
        "### **(1) 기본 사용**\n",
        "\n",
        "\n",
        "for문은 몇번 반복할 것인지 조건을 주고, 그 조건에 따라 for문 아래에 있는 코드가 실행됩니다.\n",
        "\n",
        "```\n",
        "for 조건: # 조건의 횟수만큼\n",
        "  코드1 # 이 코드들을 반복합니다.\n",
        "  코드2 # 이 코드들을 반복합니다.\n",
        "  ...\n",
        "```\n",
        "\n",
        "그럼 조건을 어떻게 주는지 알아봅시다.\n",
        "\n",
        "\n"
      ],
      "metadata": {
        "id": "MAM8MDnfw68b"
      }
    },
    {
      "cell_type": "markdown",
      "source": [
        "#### **군집자료형과 함께 쓰는 for문**\n",
        "\n",
        "군집자료형의 요소가 차례대로 `i` 에 바인딩 됩니다. `for문` 아래에서 `i`가 변수로 작동됩니다.  아래 예시에서 `i`는 모두 `1,2,3` 순으로 출력됩니다.  \n",
        "\n",
        "```\n",
        "for i in [1,2,3]:\n",
        "  print(\"i의 값은 : \", i)\n",
        "```"
      ],
      "metadata": {
        "id": "DHtQmH-R-4tp"
      }
    },
    {
      "cell_type": "code",
      "source": [
        "for i in [1,2,3]: # 리스트 안에 요소를 하나씩 뽑아 i에 바인딩 -> 리스트 요소 개수만큼 반복\n",
        "  print(\"i의 값은 : \", i)"
      ],
      "metadata": {
        "id": "QhrqH2Yt-21m",
        "colab": {
          "base_uri": "https://localhost:8080/"
        },
        "outputId": "7f44a553-cbc0-4382-fa0b-bf5ac45cc10a"
      },
      "execution_count": null,
      "outputs": [
        {
          "output_type": "stream",
          "name": "stdout",
          "text": [
            "i의 값은 :  1\n",
            "i의 값은 :  2\n",
            "i의 값은 :  3\n"
          ]
        }
      ]
    },
    {
      "cell_type": "markdown",
      "source": [
        "리스트가 아닌 튜플이나 문자열 등 다른 군집자료형도 같은 결과를 얻습니다.\n",
        "\n",
        "```\n",
        "for i in (1,2,3):\n",
        "  print(\"반복\", i)\n",
        "```"
      ],
      "metadata": {
        "id": "82JNaFiOCys3"
      }
    },
    {
      "cell_type": "code",
      "source": [
        "for i in (1,2,'삼'):\n",
        "  print(\"반복\", i)"
      ],
      "metadata": {
        "id": "pp-RWxgdCxTm",
        "colab": {
          "base_uri": "https://localhost:8080/"
        },
        "outputId": "758f39ca-e37f-4d0b-ce54-406eae92481c"
      },
      "execution_count": null,
      "outputs": [
        {
          "output_type": "stream",
          "name": "stdout",
          "text": [
            "반복 1\n",
            "반복 2\n",
            "반복 삼\n"
          ]
        }
      ]
    },
    {
      "cell_type": "markdown",
      "source": [
        "for문 내에서 변수가 필요 없으면 아래와 같이 언더바(_)로 표기하기도 합니다.\n",
        "\n",
        "```\n",
        "for _ in [1,2,3]:\n",
        "  print(\"i 값이 필요없는 반복\")\n",
        "```\n"
      ],
      "metadata": {
        "id": "6UC28ghYC0lv"
      }
    },
    {
      "cell_type": "code",
      "source": [
        "for _ in [1,2,3]: # 보통 코드에서 불필요한 변수는 _ 처리\n",
        "  print(\"i 값이 필요없는 반복\")"
      ],
      "metadata": {
        "id": "I4yAg6bDCzmd",
        "colab": {
          "base_uri": "https://localhost:8080/"
        },
        "outputId": "067fbd1c-dd94-4669-b679-71d2498e0902"
      },
      "execution_count": null,
      "outputs": [
        {
          "output_type": "stream",
          "name": "stdout",
          "text": [
            "i 값이 필요없는 반복\n",
            "i 값이 필요없는 반복\n",
            "i 값이 필요없는 반복\n"
          ]
        }
      ]
    },
    {
      "cell_type": "markdown",
      "source": [
        "#### **range와 함께 쓰는 for문**\n",
        "\n",
        "\n",
        "굳이 군집자료형을 만들어 놓지 않아도 반복문을 쓸 수 있습니다. 이 때는 range를 이용하는데, range도 슬라이싱 과 마찬가지로 처음, 끝, 스텝이 존재합니다. \n",
        "\n",
        "* `range(n)`: `0`부터 `n-1` 까지 총 `n` 회 반복됩니다.\n",
        "\n",
        "```\n",
        "for i in range(3):\n",
        "  print(\"i의 값은 : \", i)\n",
        "```\n"
      ],
      "metadata": {
        "id": "4iqQ7RMZC37L"
      }
    },
    {
      "cell_type": "code",
      "source": [
        "for i in range(3):  # 0,1,2가 i에 바인딩\n",
        "  print(\"i의 값은 : \", i)"
      ],
      "metadata": {
        "id": "VIbY94-2C1pQ",
        "colab": {
          "base_uri": "https://localhost:8080/"
        },
        "outputId": "2eb1fda9-5e3b-47d1-d636-2f9e7a8e2299"
      },
      "execution_count": null,
      "outputs": [
        {
          "output_type": "stream",
          "name": "stdout",
          "text": [
            "i의 값은 :  0\n",
            "i의 값은 :  1\n",
            "i의 값은 :  2\n"
          ]
        }
      ]
    },
    {
      "cell_type": "markdown",
      "source": [
        "\n",
        "* `range(n, m)`: `n`부터 `m-1`까지 총 `m-n`회 반복됩니다.\n",
        "\n",
        "```\n",
        "for i in range(3, 6):\n",
        "  print(i)\n",
        "```\n"
      ],
      "metadata": {
        "id": "JrGY3LipC7__"
      }
    },
    {
      "cell_type": "code",
      "source": [
        "for i in range(10, 15):  # 시작점 10, 끝 14 총 5번 반복\n",
        "  print(\"i의 값은 : \", i)"
      ],
      "metadata": {
        "id": "Per7lcYxC6am",
        "colab": {
          "base_uri": "https://localhost:8080/"
        },
        "outputId": "4ebb5bf5-41e5-4619-f2f0-b0285cc8f32e"
      },
      "execution_count": null,
      "outputs": [
        {
          "output_type": "stream",
          "name": "stdout",
          "text": [
            "i의 값은 :  10\n",
            "i의 값은 :  11\n",
            "i의 값은 :  12\n",
            "i의 값은 :  13\n",
            "i의 값은 :  14\n"
          ]
        }
      ]
    },
    {
      "cell_type": "markdown",
      "source": [
        "\n",
        "* `range(n, m, s)`: `n`부터 `m-1`까지 `s`씩 건너뛰며 반복됩니다.\n",
        "\n",
        "```\n",
        "for i in range(3, 10, 2):\n",
        "  print(i)\n",
        "```\n"
      ],
      "metadata": {
        "id": "CEn0LJkdC9tN"
      }
    },
    {
      "cell_type": "code",
      "source": [
        "for i in range(3, 10, 2): # 3-9 7번 반복. (3, 5, 7, 9)\n",
        "  print(i)"
      ],
      "metadata": {
        "id": "alTQiW14C8ze",
        "colab": {
          "base_uri": "https://localhost:8080/"
        },
        "outputId": "fde33453-7ce9-4579-dcbc-359b2ce460a4"
      },
      "execution_count": null,
      "outputs": [
        {
          "output_type": "stream",
          "name": "stdout",
          "text": [
            "3\n",
            "5\n",
            "7\n",
            "9\n"
          ]
        }
      ]
    },
    {
      "cell_type": "markdown",
      "source": [
        "`range` 가 보통은 `for`문과 함께 쓰이긴 하지만 이 자체가 일종의 sequence입니다.\n",
        "\n",
        "아래와 같이 리스트로 정의해 리스트의 값을 유연하게 정의해 줄 수도 있습니다. \n",
        "\n",
        "```\n",
        "l = list(range(101))\n",
        "print(l)\n",
        "```"
      ],
      "metadata": {
        "id": "lhHXmEns7jw9"
      }
    },
    {
      "cell_type": "code",
      "source": [
        "list(range(5))\n",
        "\n",
        "list(range(1,11))"
      ],
      "metadata": {
        "id": "_LtvVT9giSsx",
        "colab": {
          "base_uri": "https://localhost:8080/"
        },
        "outputId": "df2a5620-fd37-475c-e00f-24cd90655dea"
      },
      "execution_count": null,
      "outputs": [
        {
          "output_type": "execute_result",
          "data": {
            "text/plain": [
              "[1, 2, 3, 4, 5, 6, 7, 8, 9, 10]"
            ]
          },
          "metadata": {},
          "execution_count": 12
        }
      ]
    },
    {
      "cell_type": "markdown",
      "source": [
        "### **(2) 함수와 함께 쓰는 for문**\n",
        "\n",
        "\n",
        "함수도 반복해서 실행시켜야 할 경우 for문을 통해서 작성할 수 있습니다.\n",
        "\n",
        "```\n",
        "def square(x):\n",
        "  return x**2\n",
        "\n",
        "for x in [1,2,3,4,5]:\n",
        "  print(square(x))\n",
        "\n",
        "```"
      ],
      "metadata": {
        "id": "uJyYo462C_rJ"
      }
    },
    {
      "cell_type": "code",
      "source": [
        "def square(x):\n",
        "  return x**2\n",
        "\n",
        "for x in [1,2,3,4,5]:\n",
        "  #print(x**2) 아래와 같다.\n",
        "  print(square(x))"
      ],
      "metadata": {
        "id": "AUXD8Wj1C-nd",
        "colab": {
          "base_uri": "https://localhost:8080/"
        },
        "outputId": "4d87b712-5fe8-4939-a136-b547bf5b2d37"
      },
      "execution_count": null,
      "outputs": [
        {
          "output_type": "stream",
          "name": "stdout",
          "text": [
            "1\n",
            "4\n",
            "9\n",
            "16\n",
            "25\n"
          ]
        }
      ]
    },
    {
      "cell_type": "markdown",
      "source": [
        "앞에서 배운 내장함수 `map`을 기억하시나요? `map` 을 이용해 함수 `square`에 리스트 `[1,2,3,4,5]` 의 결과를 출력해봅시다. \n",
        "\n",
        "```\n",
        "l = list(map(square, [1,2,3,4,5]))\n",
        "print(l)\n",
        "```"
      ],
      "metadata": {
        "id": "eiOu55kT8btU"
      }
    },
    {
      "cell_type": "code",
      "source": [
        "l = list(map(square, list(range(1,6)) ))  #★★★★★★★★★★데이터 분석에서 자주나옴★★★★★★★★★★★★\n",
        "print(l)"
      ],
      "metadata": {
        "id": "7KXdJWaijHsI",
        "colab": {
          "base_uri": "https://localhost:8080/"
        },
        "outputId": "8c447f59-13f9-46ca-fd91-2489769cdb12"
      },
      "execution_count": null,
      "outputs": [
        {
          "output_type": "stream",
          "name": "stdout",
          "text": [
            "[1, 4, 9, 16, 25]\n"
          ]
        }
      ]
    },
    {
      "cell_type": "markdown",
      "source": [
        "위 코드와 정확히 똑같은 결과를 내는 코드를 `for`문을 이용해 작성해 봅시다. \n",
        "실행 결과 제곱 값이 담긴 리스트를 출력해야 합니다.\n"
      ],
      "metadata": {
        "id": "FuF5a-sm9F3M"
      }
    },
    {
      "cell_type": "code",
      "source": [
        "l = []\n",
        "for x in range(1,6):  #★★★★★★★★★★데이터 분석에서 자주나옴★★★★★★★★★★★★\n",
        "  print(x)\n",
        "  l.append(square(x))\n",
        "  print(l)"
      ],
      "metadata": {
        "id": "ytGJ2gMT9TZu",
        "colab": {
          "base_uri": "https://localhost:8080/"
        },
        "outputId": "0d27f5d7-0751-49ba-db5d-e57a6e84441a"
      },
      "execution_count": null,
      "outputs": [
        {
          "output_type": "stream",
          "name": "stdout",
          "text": [
            "1\n",
            "[1]\n",
            "2\n",
            "[1, 4]\n",
            "3\n",
            "[1, 4, 9]\n",
            "4\n",
            "[1, 4, 9, 16]\n",
            "5\n",
            "[1, 4, 9, 16, 25]\n"
          ]
        }
      ]
    },
    {
      "cell_type": "markdown",
      "source": [
        "### **(3) if문과 함께 쓰는 for문**\n",
        "\n",
        "for문 아래에 조건을 주어 특정 변수가 입력될 때만 코드를 실행할 수 있습니다. \n",
        "\n",
        "```\n",
        "for i in range(3):\n",
        "  print(i)\n",
        "  if i>0:\n",
        "    print('0보다 크다!')\n",
        "print('for문 끝')\n",
        "```\n"
      ],
      "metadata": {
        "id": "69DKCow2DDbM"
      }
    },
    {
      "cell_type": "code",
      "source": [
        "for i in range(3):  # 3번 반복\n",
        "  print(i) # 0, 1, 2\n",
        "  if i>0: # 0보다 클때만\n",
        "    print('0보다 크다!')  # 출력\n",
        "print('for문 끝')"
      ],
      "metadata": {
        "id": "UQFMVQ6eDBxF",
        "colab": {
          "base_uri": "https://localhost:8080/"
        },
        "outputId": "7fdde390-3637-4ca5-c7a3-bb5acb97ecf0"
      },
      "execution_count": null,
      "outputs": [
        {
          "output_type": "stream",
          "name": "stdout",
          "text": [
            "0\n",
            "1\n",
            "0보다 크다!\n",
            "2\n",
            "0보다 크다!\n",
            "for문 끝\n"
          ]
        }
      ]
    },
    {
      "cell_type": "markdown",
      "source": [
        "#### 다음반복으로 건너뛰기\n",
        "\n",
        "* `continue`\n",
        "\n",
        "`for문` 안에서 `continue`를 만나면 즉시 다음 반복으로 넘어갑니다. `continue` 아래에 있는 `for문` 코드들은 진행되지 않습니다. \n",
        "\n",
        "```\n",
        "for i in range(5):\n",
        "  print(i) \n",
        "  if i < 3: continue\n",
        "  print('--') \n",
        "```\n"
      ],
      "metadata": {
        "id": "eM4qjvU4DHTs"
      }
    },
    {
      "cell_type": "code",
      "source": [
        "for i in range(5):\n",
        "  print(i) \n",
        "  if i < 3: continue  # i가 3보다 작으면 건너뛴다.\n",
        "  print('--') # 3보다 작으면 출력이 안된다."
      ],
      "metadata": {
        "id": "Ykl1kjbDDGKv",
        "colab": {
          "base_uri": "https://localhost:8080/"
        },
        "outputId": "7b3bfc2f-2eac-4a4b-f131-f964fea908e4"
      },
      "execution_count": null,
      "outputs": [
        {
          "output_type": "stream",
          "name": "stdout",
          "text": [
            "0\n",
            "1\n",
            "2\n",
            "3\n",
            "--\n",
            "4\n",
            "--\n"
          ]
        }
      ]
    },
    {
      "cell_type": "markdown",
      "source": [
        "#### **for문을 즉시 종료하기**  \n",
        "\n",
        "* `break`\n",
        "\n",
        "`for문` 안에서 `break` 을 만나면 즉시 `for문`이 종료됩니다. (모든 루프가 돌아가지 않았어도)\n",
        "\n",
        "```\n",
        "for i in range(5):\n",
        "  print(i)\n",
        "  if i==2: break\n",
        "  print('--')\n",
        "```"
      ],
      "metadata": {
        "id": "UFYB6MgHDM6D"
      }
    },
    {
      "cell_type": "code",
      "source": [
        "for i in range(5):\n",
        "  print(i)\n",
        "  if i==2: break  # i가 2 되는 순간 종료\n",
        "  print('--')"
      ],
      "metadata": {
        "id": "iiI9RapDDJqQ",
        "colab": {
          "base_uri": "https://localhost:8080/"
        },
        "outputId": "ddaffdd8-3201-4e4d-b97d-c14faef0569b"
      },
      "execution_count": null,
      "outputs": [
        {
          "output_type": "stream",
          "name": "stdout",
          "text": [
            "0\n",
            "--\n",
            "1\n",
            "--\n",
            "2\n"
          ]
        }
      ]
    },
    {
      "cell_type": "markdown",
      "source": [
        "`if문`의 조건을 만족하여 `break`을 만나는 순간 `for문`이 종료되고, 다음 루프가 실행조차 되지 않습니다. 따라서 2번째 루프가 시작된 후 다음 코드들은 보이지 않네요.\n"
      ],
      "metadata": {
        "id": "fbzgJuHCDS-G"
      }
    },
    {
      "cell_type": "markdown",
      "source": [
        "### **(4) for문을 더 효율적으로 사용하기**\n",
        "\n",
        "for문은 코드를 짤 때 매우 빈번하게 사용되는 문법입니다. 그러니 for문을 좀 더 효율적으로 사용하는 방법에 대해 알고 있는것이 매우 도움이 됩니다.\n",
        "\n",
        "연습을 위해 우선 리스트 두개를 먼저 정의해 봅시다.\n",
        "\n",
        "```\n",
        "l1 = [\"A\",\"B\",\"C\"]\n",
        "l2 = [\"a\", \"b\", \"c\"]\n",
        "```"
      ],
      "metadata": {
        "id": "haxPKRHqFCgX"
      }
    },
    {
      "cell_type": "code",
      "source": [
        "l1 = [\"A\",\"B\",\"C\"]\n",
        "l2 = [\"a\", \"b\", \"c\"]"
      ],
      "metadata": {
        "id": "sogpF7X3AqSd"
      },
      "execution_count": null,
      "outputs": []
    },
    {
      "cell_type": "markdown",
      "source": [
        "\n",
        "#### **두개의 sequence를 함께 나열하기**\n",
        "\n",
        "* `zip`  \n",
        "\n",
        "`zip`을 이용해서 두개의 sequence를 순차적으로 함께 나타낼 수 있습니다. 사용 문법을 잘 숙지해 둡시다.\n",
        "\n",
        "```\n",
        "for x1, x2 in zip(l1, l2):\n",
        "  print(f'1: {x1}, 2: {x2}')\n",
        "```\n"
      ],
      "metadata": {
        "id": "ALu7TgjkFEiN"
      }
    },
    {
      "cell_type": "code",
      "source": [
        "for x1, x2 in zip(l1, l2):\n",
        "  print(f'1: {x1}, 2: {x2}')"
      ],
      "metadata": {
        "id": "JXYWpAdhDRFt",
        "colab": {
          "base_uri": "https://localhost:8080/"
        },
        "outputId": "3f8360af-f54c-4090-8baf-2ea66e29cc24"
      },
      "execution_count": null,
      "outputs": [
        {
          "output_type": "stream",
          "name": "stdout",
          "text": [
            "1: A, 2: a\n",
            "1: B, 2: b\n",
            "1: C, 2: c\n"
          ]
        }
      ]
    },
    {
      "cell_type": "code",
      "source": [
        "for i in range(len(l1)):  # 우회해서 이렇게 풀 수도 있지만 위처럼 간결하게 풀도록 노력해야함!\n",
        "  print(f' 1: {l1[i]}, 2: {l2[i]}')"
      ],
      "metadata": {
        "colab": {
          "base_uri": "https://localhost:8080/"
        },
        "id": "hB8xzAhXqtHa",
        "outputId": "4941e5f8-792b-42a1-91d9-3b5eb2275cc1"
      },
      "execution_count": null,
      "outputs": [
        {
          "output_type": "stream",
          "name": "stdout",
          "text": [
            " 1: A, 2: a\n",
            " 1: B, 2: b\n",
            " 1: C, 2: c\n"
          ]
        }
      ]
    },
    {
      "cell_type": "markdown",
      "source": [
        "#### **순번을 함께 나열하기**\n",
        "\n",
        "* `enumerate`  \n",
        "\n",
        "`for문` 내에서 변수의 값은 항상 `sequence`에 의해서 정해집니다. 절대적인 순번(0, 1, 2, 등)을 같이 변수로 바인딩하고 싶다면 `enumerate`를 사용합니다. \n",
        "\n",
        "```\n",
        "for idx, x in enumerate(l1):\n",
        "  print( idx, x)\n",
        "```"
      ],
      "metadata": {
        "id": "Zz_c1lJYHP01"
      }
    },
    {
      "cell_type": "code",
      "source": [
        "# 길이만큼 인덱싱\n",
        "for i in range(len(l1)):\n",
        "  print(i, l1[i])\n",
        "\n",
        "# 요소\n",
        "i = 0\n",
        "for x in l1:\n",
        "  print(i, x)\n",
        "  i+=1\n",
        "\n",
        "for idx, x in enumerate(l1):\n",
        "  print(idx, x)"
      ],
      "metadata": {
        "id": "APDyAy_CFIan",
        "colab": {
          "base_uri": "https://localhost:8080/"
        },
        "outputId": "4aeefa1e-c049-41b3-f6f5-1a7d2c545ee3"
      },
      "execution_count": null,
      "outputs": [
        {
          "output_type": "stream",
          "name": "stdout",
          "text": [
            "0 A\n",
            "1 B\n",
            "2 C\n",
            "0 A\n",
            "1 B\n",
            "2 C\n",
            "0 A\n",
            "1 B\n",
            "2 C\n"
          ]
        }
      ]
    },
    {
      "cell_type": "markdown",
      "source": [
        "### (5) 다중 for문\n",
        "\n",
        "for문 아래 for문을 또 추가 할 수 있습니다. 다만 다중 for문일 때 코드의 작동순서를 잘 파악할 필요가 있습니다. 삼중, 사중 for문도 구현은 가능합니다. 하지만 for문이 추가될때마다 계산량이 급격히 증가하기 때문에 되도록이면 이중 for문을 넘어가지 않는것이 좋습니다.\n",
        "\n",
        "```\n",
        "for i in range(3):\n",
        "  for j in range(3):\n",
        "    print(f\"i: {i}, j:{j}\")\n",
        "```"
      ],
      "metadata": {
        "id": "aeMCCH2LHXDS"
      }
    },
    {
      "cell_type": "code",
      "source": [
        "# ★ 다중 for문을 쓰면 코테에서 검사오류가 나올 가능성이 있음, 시간 오래걸림\n",
        "\n",
        "for i in range(2, 10):\n",
        "  print(f'구구단 {i}단')\n",
        "  for j in range(1, 10):\n",
        "    print(f\"{i} x {j} = {i*j}\",)"
      ],
      "metadata": {
        "id": "sYUzu5AcHgEF",
        "colab": {
          "base_uri": "https://localhost:8080/"
        },
        "outputId": "05e9dabf-0f0f-4018-e1f6-f7b431f1a1cc"
      },
      "execution_count": null,
      "outputs": [
        {
          "output_type": "stream",
          "name": "stdout",
          "text": [
            "구구단 2단\n",
            "2 x 1 = 2\n",
            "2 x 2 = 4\n",
            "2 x 3 = 6\n",
            "2 x 4 = 8\n",
            "2 x 5 = 10\n",
            "2 x 6 = 12\n",
            "2 x 7 = 14\n",
            "2 x 8 = 16\n",
            "2 x 9 = 18\n",
            "구구단 3단\n",
            "3 x 1 = 3\n",
            "3 x 2 = 6\n",
            "3 x 3 = 9\n",
            "3 x 4 = 12\n",
            "3 x 5 = 15\n",
            "3 x 6 = 18\n",
            "3 x 7 = 21\n",
            "3 x 8 = 24\n",
            "3 x 9 = 27\n",
            "구구단 4단\n",
            "4 x 1 = 4\n",
            "4 x 2 = 8\n",
            "4 x 3 = 12\n",
            "4 x 4 = 16\n",
            "4 x 5 = 20\n",
            "4 x 6 = 24\n",
            "4 x 7 = 28\n",
            "4 x 8 = 32\n",
            "4 x 9 = 36\n",
            "구구단 5단\n",
            "5 x 1 = 5\n",
            "5 x 2 = 10\n",
            "5 x 3 = 15\n",
            "5 x 4 = 20\n",
            "5 x 5 = 25\n",
            "5 x 6 = 30\n",
            "5 x 7 = 35\n",
            "5 x 8 = 40\n",
            "5 x 9 = 45\n",
            "구구단 6단\n",
            "6 x 1 = 6\n",
            "6 x 2 = 12\n",
            "6 x 3 = 18\n",
            "6 x 4 = 24\n",
            "6 x 5 = 30\n",
            "6 x 6 = 36\n",
            "6 x 7 = 42\n",
            "6 x 8 = 48\n",
            "6 x 9 = 54\n",
            "구구단 7단\n",
            "7 x 1 = 7\n",
            "7 x 2 = 14\n",
            "7 x 3 = 21\n",
            "7 x 4 = 28\n",
            "7 x 5 = 35\n",
            "7 x 6 = 42\n",
            "7 x 7 = 49\n",
            "7 x 8 = 56\n",
            "7 x 9 = 63\n",
            "구구단 8단\n",
            "8 x 1 = 8\n",
            "8 x 2 = 16\n",
            "8 x 3 = 24\n",
            "8 x 4 = 32\n",
            "8 x 5 = 40\n",
            "8 x 6 = 48\n",
            "8 x 7 = 56\n",
            "8 x 8 = 64\n",
            "8 x 9 = 72\n",
            "구구단 9단\n",
            "9 x 1 = 9\n",
            "9 x 2 = 18\n",
            "9 x 3 = 27\n",
            "9 x 4 = 36\n",
            "9 x 5 = 45\n",
            "9 x 6 = 54\n",
            "9 x 7 = 63\n",
            "9 x 8 = 72\n",
            "9 x 9 = 81\n"
          ]
        }
      ]
    },
    {
      "cell_type": "markdown",
      "source": [
        "코드가 아직 익숙하지 않은 상태에서 다중 for문을 보면 해석하기 어려울 수 있습니다. 이것저것 변수를 건드려보고, 출력을 바꾸면서 최대한 익숙해지도록 하는 것이 좋습니다. 아래 코드가 어떻게 나올지 예상해보고 출력해 봅시다.\n"
      ],
      "metadata": {
        "id": "9t530iSZHdQ9"
      }
    },
    {
      "cell_type": "markdown",
      "source": [
        "```\n",
        "for i in range(1, 6):\n",
        "    print(i, end=\": \")\n",
        "    for j in range(1, 11):        \n",
        "        print(j, end=\" \")\n",
        "    print()\n",
        "```"
      ],
      "metadata": {
        "id": "E6O8MHx_HeH4"
      }
    },
    {
      "cell_type": "code",
      "source": [
        "for i in range(1, 6):\n",
        "    print(i, end=\": \")\n",
        "    for j in range(1, 11):        \n",
        "        print(j, end=\" \")\n",
        "    print()"
      ],
      "metadata": {
        "id": "LHKNGIVSHWBe",
        "colab": {
          "base_uri": "https://localhost:8080/"
        },
        "outputId": "4aef7e88-36b0-44f7-ba01-1e1262c27fee"
      },
      "execution_count": null,
      "outputs": [
        {
          "output_type": "stream",
          "name": "stdout",
          "text": [
            "1: 1 2 3 4 5 6 7 8 9 10 \n",
            "2: 1 2 3 4 5 6 7 8 9 10 \n",
            "3: 1 2 3 4 5 6 7 8 9 10 \n",
            "4: 1 2 3 4 5 6 7 8 9 10 \n",
            "5: 1 2 3 4 5 6 7 8 9 10 \n"
          ]
        }
      ]
    },
    {
      "cell_type": "markdown",
      "source": [
        "### (6) 리스트 안에 for문 쓰기 \n",
        "\n",
        "0부터 9까지 값이 담긴 리스트를 생성하는 방법을 앞에서 배워봤습니다.\n",
        "\n",
        "* `range`를 이용하기\n",
        "\n",
        "```\n",
        "l = list(range(10))\n",
        "```\n",
        "\n",
        "\n",
        "* `for`문 이용하기\n",
        "\n",
        "```\n",
        "l = []\n",
        "for i in range(10):\n",
        "  l.append(i)\n",
        "```\n",
        "\n",
        "이와 비슷하게 for문을 리스트 안에서 한줄로 사용하는 방법이 있습니다. 아래코드는 위 코드들과 완전히 동일한 결과를 냅니다.\n",
        "\n",
        "```\n",
        "l = [i for i in range(10)]\n",
        "```"
      ],
      "metadata": {
        "id": "cuGJgjCZmqWh"
      }
    },
    {
      "cell_type": "code",
      "source": [
        "l = [i for i in range(10)]"
      ],
      "metadata": {
        "id": "FZdG18BbpF1x"
      },
      "execution_count": null,
      "outputs": []
    },
    {
      "cell_type": "markdown",
      "source": [
        "#### **반환값 조절하기**\n",
        "\n",
        "리스트에 담기는 값은 가장 처음에 적어줍니다. 위 코드에서는 i라는 변수가 리스트에 담겨집니다. 만약 i의 제곱값을 리스트에 넣고 싶다면 다음과 같이 작성합니다.\n",
        "\n",
        "```\n",
        "l = [i**2 for i in range(10)]\n",
        "```"
      ],
      "metadata": {
        "id": "jqHqC72fB92N"
      }
    },
    {
      "cell_type": "code",
      "source": [
        "l = [i**2 for i in range(10)] # 변수 i를 변형 가능\n",
        "print(l)"
      ],
      "metadata": {
        "id": "9tv9InWkpLkB",
        "colab": {
          "base_uri": "https://localhost:8080/"
        },
        "outputId": "2213fa7b-c557-4899-f181-3b6b7c0b8c6e"
      },
      "execution_count": null,
      "outputs": [
        {
          "output_type": "stream",
          "name": "stdout",
          "text": [
            "[0, 1, 4, 9, 16, 25, 36, 49, 64, 81]\n"
          ]
        }
      ]
    },
    {
      "cell_type": "markdown",
      "source": [
        "#### **이중 for문 구현하기**\n",
        "\n",
        "이중 for문을 구현하는 것도 가능합니다. 위에서 배운 이중 for문 하나를 작성해 보겠습니다.\n",
        "\n",
        "```\n",
        "for i in range(3):\n",
        "  for j in range(5):\n",
        "    print(i, j)\n",
        "```\n"
      ],
      "metadata": {
        "id": "cSDjRaswCYnt"
      }
    },
    {
      "cell_type": "code",
      "source": [
        "for i in range(3):\n",
        "  for j in range(5):\n",
        "    print(i, j)"
      ],
      "metadata": {
        "id": "PoGSVpsIOINn",
        "colab": {
          "base_uri": "https://localhost:8080/"
        },
        "outputId": "d2f80a9c-22ff-4dec-b2a9-c57c48a45860"
      },
      "execution_count": null,
      "outputs": [
        {
          "output_type": "stream",
          "name": "stdout",
          "text": [
            "0 0\n",
            "0 1\n",
            "0 2\n",
            "0 3\n",
            "0 4\n",
            "1 0\n",
            "1 1\n",
            "1 2\n",
            "1 3\n",
            "1 4\n",
            "2 0\n",
            "2 1\n",
            "2 2\n",
            "2 3\n",
            "2 4\n"
          ]
        }
      ]
    },
    {
      "cell_type": "markdown",
      "source": [
        "\n",
        "이 코드와 같은 기능을 하는 코드는 아래와 같습니다. (다만 아래는 리스트를 반환하기 때문에 완전히 같은 코드는 아닙니다.)\n",
        "\n",
        "```\n",
        "l = [f'{i}, {j}' for i in range(3) for j in range(5)]\n",
        "print(l)\n",
        "```"
      ],
      "metadata": {
        "id": "czhnF1LzOITF"
      }
    },
    {
      "cell_type": "code",
      "source": [
        "l = [f'{i}, {j}' for i in range(2) for j in range(10)]  # 리스트 안에 출력문, 첫번째 for문, 두번째 for문\n",
        "print(l)"
      ],
      "metadata": {
        "id": "-hisdcH7NvMY",
        "colab": {
          "base_uri": "https://localhost:8080/"
        },
        "outputId": "54746974-d59e-4342-f60e-63dd40ad7ec3"
      },
      "execution_count": null,
      "outputs": [
        {
          "output_type": "stream",
          "name": "stdout",
          "text": [
            "['0, 0', '0, 1', '0, 2', '0, 3', '0, 4', '0, 5', '0, 6', '0, 7', '0, 8', '0, 9', '1, 0', '1, 1', '1, 2', '1, 3', '1, 4', '1, 5', '1, 6', '1, 7', '1, 8', '1, 9']\n"
          ]
        }
      ]
    },
    {
      "cell_type": "markdown",
      "source": [
        "## 문제풀이\n",
        "---"
      ],
      "metadata": {
        "id": "8Rb4NNbKHiLD"
      }
    },
    {
      "cell_type": "markdown",
      "source": [
        "**[정의] 01~10**\n",
        "\n",
        "아래와 같이 리스트를 정의하세요.\n",
        "\n",
        "```\n",
        "my_list = [\"apple\", \"blue\", \"cup\", \"door\"]\n",
        "```\n"
      ],
      "metadata": {
        "id": "xOsqfbd9HmQh"
      }
    },
    {
      "cell_type": "code",
      "source": [
        "my_list = [\"apple\", \"blue\", \"cup\", \"door\"]"
      ],
      "metadata": {
        "id": "kT4FCjRCHzUP"
      },
      "execution_count": 191,
      "outputs": []
    },
    {
      "cell_type": "markdown",
      "source": [
        "**예제 01**\n",
        "\n",
        "\n",
        "아래 실행 결과를 내는 코드를 `for문`과 `my_list`를 이용하여 작성하세요\n",
        "\n",
        "```{.no-highlight}\n",
        "It's apple\n",
        "It's blue\n",
        "It's cup\n",
        "It's door\n",
        "```"
      ],
      "metadata": {
        "id": "lrpQEjSPHsq2"
      }
    },
    {
      "cell_type": "code",
      "source": [
        "for i in my_list:\n",
        "  print(f\"It's {i}\")"
      ],
      "metadata": {
        "id": "kY0jptRtHfu1",
        "colab": {
          "base_uri": "https://localhost:8080/"
        },
        "outputId": "cb11b0f8-3134-4cdd-bbc3-97b9931e6ff4"
      },
      "execution_count": null,
      "outputs": [
        {
          "output_type": "stream",
          "name": "stdout",
          "text": [
            "It's apple\n",
            "It's blue\n",
            "It's cup\n",
            "It's door\n"
          ]
        }
      ]
    },
    {
      "cell_type": "markdown",
      "source": [
        "**예제 02** \n",
        "\n",
        "아래 실행 결과를 내는 코드를 `for문`과 `range`를 이용해서 작성하세요\n",
        "\n",
        "```{.no-highlight}\n",
        "It's apple\n",
        "It's blue\n",
        "It's cup\n",
        "It's door\n",
        "```\n"
      ],
      "metadata": {
        "id": "EMiIhII_H1-l"
      }
    },
    {
      "cell_type": "code",
      "source": [
        "for i in range(4):\n",
        "  print(f\"It's {my_list[i]}\")"
      ],
      "metadata": {
        "id": "2Z5FlkORH4k6",
        "colab": {
          "base_uri": "https://localhost:8080/"
        },
        "outputId": "b1941026-d293-46a5-ef7f-ac46106a1bbd"
      },
      "execution_count": null,
      "outputs": [
        {
          "output_type": "stream",
          "name": "stdout",
          "text": [
            "It's apple\n",
            "It's blue\n",
            "It's cup\n",
            "It's door\n"
          ]
        }
      ]
    },
    {
      "cell_type": "code",
      "source": [
        "# 강사님 해설\n",
        "\n",
        "for x in range(len(my_list)):\n",
        "  print(f\"It's {my_list[x]}\")"
      ],
      "metadata": {
        "colab": {
          "base_uri": "https://localhost:8080/"
        },
        "id": "b-f_jBytojBT",
        "outputId": "e65b9935-90d3-4056-d182-f0e29b6e9ec1"
      },
      "execution_count": 192,
      "outputs": [
        {
          "output_type": "stream",
          "name": "stdout",
          "text": [
            "It's apple\n",
            "It's blue\n",
            "It's cup\n",
            "It's door\n"
          ]
        }
      ]
    },
    {
      "cell_type": "markdown",
      "source": [
        "**예제 03** \n",
        "\n",
        "아래 실행 결과를 내는 코드를 작성하세요\n",
        "\n",
        "```{.no-highlight}\n",
        "-------\n",
        "start!\n",
        "It's apple\n",
        "It's blue\n",
        "It's cup\n",
        "It's door\n",
        "-------\n",
        "```"
      ],
      "metadata": {
        "id": "RupJUdtSH52T"
      }
    },
    {
      "cell_type": "code",
      "source": [
        "print('-------')\n",
        "print('start!')\n",
        "for i in my_list:\n",
        "  print(f\"It's {i}\")\n",
        "print('-------')"
      ],
      "metadata": {
        "id": "MJr9wmzoH6kV",
        "colab": {
          "base_uri": "https://localhost:8080/"
        },
        "outputId": "aa1fba9a-1f37-47b6-dae2-0dd8c1e50423"
      },
      "execution_count": null,
      "outputs": [
        {
          "output_type": "stream",
          "name": "stdout",
          "text": [
            "-------\n",
            "start!\n",
            "It's apple\n",
            "It's blue\n",
            "It's cup\n",
            "It's door\n",
            "-------\n"
          ]
        }
      ]
    },
    {
      "cell_type": "markdown",
      "source": [
        "**예제 04** \n",
        "\n",
        "아래 실행 결과를 내는 코드를 작성하세요\n",
        "\n",
        "\n",
        "```{.no-highlight}\n",
        "-------\n",
        "start!\n",
        "-------\n",
        "It's apple\n",
        "-------\n",
        "It's blue\n",
        "-------\n",
        "It's cup\n",
        "-------\n",
        "It's door\n",
        "end!\n",
        "-------\n",
        "```"
      ],
      "metadata": {
        "id": "_4sajqBiH7Ws"
      }
    },
    {
      "cell_type": "code",
      "source": [
        "print('-------')\n",
        "print('start!')\n",
        "for i in my_list:\n",
        "  print('-------')\n",
        "  print(f\"It's {i}\")\n",
        "print('end!')\n",
        "print('-------')"
      ],
      "metadata": {
        "id": "JbjKVMsxH96v",
        "colab": {
          "base_uri": "https://localhost:8080/"
        },
        "outputId": "2daa6712-957a-417b-a4fa-cb2e5478d5d6"
      },
      "execution_count": null,
      "outputs": [
        {
          "output_type": "stream",
          "name": "stdout",
          "text": [
            "-------\n",
            "start!\n",
            "-------\n",
            "It's apple\n",
            "-------\n",
            "It's blue\n",
            "-------\n",
            "It's cup\n",
            "-------\n",
            "It's door\n",
            "end!\n",
            "-------\n"
          ]
        }
      ]
    },
    {
      "cell_type": "markdown",
      "source": [
        "\n",
        "**예제 05** \n",
        "\n",
        "아래 실행 결과를 내는 코드를 작성하세요\n",
        "\n",
        "```{.no-highlight}\n",
        "a is apple\n",
        "-------\n",
        "b is blue\n",
        "-------\n",
        "c is cup\n",
        "-------\n",
        "d is door\n",
        "-------\n",
        "```"
      ],
      "metadata": {
        "id": "pmWXw1f7H_-0"
      }
    },
    {
      "cell_type": "code",
      "source": [
        "for i in my_list:\n",
        "  print(f'{i[0]} is {i}')\n",
        "  print('-------')"
      ],
      "metadata": {
        "id": "ANwJwi6QIBWc",
        "colab": {
          "base_uri": "https://localhost:8080/"
        },
        "outputId": "1c9cd4c2-8724-42ab-deda-59f7da198991"
      },
      "execution_count": null,
      "outputs": [
        {
          "output_type": "stream",
          "name": "stdout",
          "text": [
            "a is apple\n",
            "-------\n",
            "b is blue\n",
            "-------\n",
            "c is cup\n",
            "-------\n",
            "d is door\n",
            "-------\n"
          ]
        }
      ]
    },
    {
      "cell_type": "markdown",
      "source": [
        "**예제 06** \n",
        "\n",
        "아래 실행 결과를 내는 코드를 작성하세요\n",
        "\n",
        "```{.no-highlight}\n",
        "Apple\n",
        "Blue\n",
        "Cup\n",
        "Door\n",
        "```\n"
      ],
      "metadata": {
        "id": "I8ykoYNGICPR"
      }
    },
    {
      "cell_type": "code",
      "source": [
        "for i in my_list:\n",
        "  print(i.capitalize())"
      ],
      "metadata": {
        "id": "VJrCVewYIDR2",
        "colab": {
          "base_uri": "https://localhost:8080/"
        },
        "outputId": "f90a2c03-3a97-4dde-c347-769a6142953b"
      },
      "execution_count": null,
      "outputs": [
        {
          "output_type": "stream",
          "name": "stdout",
          "text": [
            "Apple\n",
            "Blue\n",
            "Cup\n",
            "Door\n"
          ]
        }
      ]
    },
    {
      "cell_type": "markdown",
      "source": [
        "\n",
        "**예제 07** \n",
        "\n",
        "아래 실행 결과를 내는 코드를 작성하세요\n",
        "\n",
        "```{.no-highlight}\n",
        "Apple len: 5 \n",
        "Blue len: 4\n",
        "Cup len: 3\n",
        "Door len: 4\n",
        "```\n"
      ],
      "metadata": {
        "id": "NxTLfkw2IEZp"
      }
    },
    {
      "cell_type": "code",
      "source": [
        "for i in my_list:\n",
        "  print(f'{i.capitalize()} len: {len(i)}')"
      ],
      "metadata": {
        "id": "M1xP6KMNIFhX",
        "colab": {
          "base_uri": "https://localhost:8080/"
        },
        "outputId": "594e27f9-e525-4ca3-8a2b-0444f2c698b9"
      },
      "execution_count": null,
      "outputs": [
        {
          "output_type": "stream",
          "name": "stdout",
          "text": [
            "Apple len: 5\n",
            "Blue len: 4\n",
            "Cup len: 3\n",
            "Door len: 4\n"
          ]
        }
      ]
    },
    {
      "cell_type": "markdown",
      "source": [
        "**예제 08** \n",
        "\n",
        "아래 실행 결과를 내는 코드를 작성하세요\n",
        "\n",
        "```{.no-highlight}\n",
        "0. apple  \n",
        "1. blue \n",
        "2. cup \n",
        "3. door \n",
        "```"
      ],
      "metadata": {
        "id": "dEYLHxsyIGXV"
      }
    },
    {
      "cell_type": "code",
      "source": [
        "for i in range(4):\n",
        "    print(f'{i}. {my_list[i]}')"
      ],
      "metadata": {
        "id": "O-I1qZJbIHEs",
        "colab": {
          "base_uri": "https://localhost:8080/"
        },
        "outputId": "398e1077-58f0-42e8-9b2e-4abd306478fd"
      },
      "execution_count": null,
      "outputs": [
        {
          "output_type": "stream",
          "name": "stdout",
          "text": [
            "0. apple\n",
            "1. blue\n",
            "2. cup\n",
            "3. door\n"
          ]
        }
      ]
    },
    {
      "cell_type": "code",
      "source": [
        "# 강사님 해설\n",
        "\n",
        "#ex1 ★enumerate() 활용★\n",
        "for i, x in enumerate(my_list):\n",
        "  print(f\"{i}. {x}\")\n",
        "#ex2\n",
        "for i in range(len(my_list)):\n",
        "  print(f\"{i}. {my_list[i]}\")\n"
      ],
      "metadata": {
        "colab": {
          "base_uri": "https://localhost:8080/"
        },
        "id": "B7k5PKDKo9St",
        "outputId": "dd1398be-5f97-49fe-84f7-863517306850"
      },
      "execution_count": 193,
      "outputs": [
        {
          "output_type": "stream",
          "name": "stdout",
          "text": [
            "0. apple\n",
            "1. blue\n",
            "2. cup\n",
            "3. door\n",
            "0. apple\n",
            "1. blue\n",
            "2. cup\n",
            "3. door\n"
          ]
        }
      ]
    },
    {
      "cell_type": "markdown",
      "source": [
        "**예제 09** \n",
        "\n",
        "아래 실행 결과를 내는 코드를 작성하세요\n",
        "\n",
        "```{.no-highlight}\n",
        "00. apple  \n",
        "01. blue \n",
        "02. cup \n",
        "03. door \n",
        "```"
      ],
      "metadata": {
        "id": "93edVmbzIIFF"
      }
    },
    {
      "cell_type": "code",
      "source": [
        "for i in range(4):\n",
        "    print(f'{str(i).zfill(2)}. {my_list[i]}')"
      ],
      "metadata": {
        "id": "SM4OXF9EIIzt",
        "colab": {
          "base_uri": "https://localhost:8080/"
        },
        "outputId": "3076e33d-064a-4a35-f4eb-65ba2a6e1fa4"
      },
      "execution_count": null,
      "outputs": [
        {
          "output_type": "stream",
          "name": "stdout",
          "text": [
            "00. apple\n",
            "01. blue\n",
            "02. cup\n",
            "03. door\n"
          ]
        }
      ]
    },
    {
      "cell_type": "code",
      "source": [
        "# 강사님 해설\n",
        "\n",
        "for i, x in enumerate(my_list):\n",
        "  print(f\"{str(i).zfill(2)}. {x}\")"
      ],
      "metadata": {
        "colab": {
          "base_uri": "https://localhost:8080/"
        },
        "id": "wGqn5H97pWb7",
        "outputId": "a42a712f-a64c-437b-a4b4-fca3b7384907"
      },
      "execution_count": 194,
      "outputs": [
        {
          "output_type": "stream",
          "name": "stdout",
          "text": [
            "00. apple\n",
            "01. blue\n",
            "02. cup\n",
            "03. door\n"
          ]
        }
      ]
    },
    {
      "cell_type": "markdown",
      "source": [
        "**예제 10** \n",
        "\n",
        "`my_list2`가 다음과 같이 주어졌을 때 위에서 정의한 `my_list`와 `my_list2`를 이용하여 아래와 같은 결과를 내는 코드를 작성하세요\n",
        "\n",
        "```\n",
        "my_list2 = [\"red\",\"corona\",\"mug\",\"oppen\"]\n",
        "```\n",
        "\n",
        "```\n",
        "Red apple\n",
        "Corona blue\n",
        "Mug cup\n",
        "Oppen door\n",
        "```\n"
      ],
      "metadata": {
        "id": "LtypkJvFIJ4E"
      }
    },
    {
      "cell_type": "code",
      "source": [
        "my_list2 = [\"red\",\"corona\",\"mug\",\"oppen\"]"
      ],
      "metadata": {
        "id": "wjHGfP_y8RZy"
      },
      "execution_count": null,
      "outputs": []
    },
    {
      "cell_type": "code",
      "source": [
        "for i,j in zip(my_list, my_list2):\n",
        "  print(f'{j.capitalize()} {i}')"
      ],
      "metadata": {
        "id": "Vmyf0AiaIKYl",
        "colab": {
          "base_uri": "https://localhost:8080/"
        },
        "outputId": "b7e44d45-aa52-4f79-9984-896b49736015"
      },
      "execution_count": null,
      "outputs": [
        {
          "output_type": "stream",
          "name": "stdout",
          "text": [
            "Red apple\n",
            "Corona blue\n",
            "Mug cup\n",
            "Oppen door\n"
          ]
        }
      ]
    },
    {
      "cell_type": "markdown",
      "source": [
        "**예제 11** \n",
        "\n",
        "구구단을 호출하는 함수를 만드세요\n",
        "\n",
        "\n",
        "```\n",
        ">> gugudan(5)\n",
        "5 * 1 = 5\n",
        "5 * 2 = 10\n",
        "5 * 3 = 15\n",
        "5 * 4 = 20\n",
        "5 * 5 = 25\n",
        "5 * 6 = 30\n",
        "5 * 7 = 35\n",
        "5 * 8 = 40\n",
        "5 * 9 = 45\n",
        "```\n"
      ],
      "metadata": {
        "id": "ts1p9xkqKJPL"
      }
    },
    {
      "cell_type": "code",
      "source": [
        "def gugudan(x):\n",
        "  for i in range(1,10):\n",
        "    print(f'{x} * {i} = {x*(i)}') # 강사님은 연산시 i를 소괄호로 구분함\n",
        "\n",
        "gugudan(5)\n"
      ],
      "metadata": {
        "id": "dOjMwO7TKNH1",
        "colab": {
          "base_uri": "https://localhost:8080/"
        },
        "outputId": "eace3180-a32a-454c-c501-2c7ce872a532"
      },
      "execution_count": null,
      "outputs": [
        {
          "output_type": "stream",
          "name": "stdout",
          "text": [
            "5 * 1 = 5\n",
            "5 * 2 = 10\n",
            "5 * 3 = 15\n",
            "5 * 4 = 20\n",
            "5 * 5 = 25\n",
            "5 * 6 = 30\n",
            "5 * 7 = 35\n",
            "5 * 8 = 40\n",
            "5 * 9 = 45\n"
          ]
        }
      ]
    },
    {
      "cell_type": "markdown",
      "source": [
        "**예제 12** \n",
        "\n",
        "이중 for문을 이용하여 아래와 똑같이 출력하는 코드를 작성하세요\n",
        "\n",
        "```{.no-highlight}\n",
        "1 2 3 4 5 6 7 8 9 10\n",
        "1 2 3 4 5 6 7 8 9 10\n",
        "1 2 3 4 5 6 7 8 9 10\n",
        "1 2 3 4 5 6 7 8 9 10\n",
        "1 2 3 4 5 6 7 8 9 10 \n",
        "1 2 3 4 5 6 7 8 9 10 \n",
        "1 2 3 4 5 6 7 8 9 10\n",
        "```\n"
      ],
      "metadata": {
        "id": "T9gPPxKVKOYL"
      }
    },
    {
      "cell_type": "code",
      "source": [
        "for i in range(7):  \n",
        "  for j in range(1,11):\n",
        "    print(j, end = ' ')\n",
        "  print()\n"
      ],
      "metadata": {
        "id": "25gRJZvaKPT0",
        "colab": {
          "base_uri": "https://localhost:8080/"
        },
        "outputId": "33cad12e-6ab3-4391-f51c-1e2cee2d901b"
      },
      "execution_count": null,
      "outputs": [
        {
          "output_type": "stream",
          "name": "stdout",
          "text": [
            "1 2 3 4 5 6 7 8 9 10 \n",
            "1 2 3 4 5 6 7 8 9 10 \n",
            "1 2 3 4 5 6 7 8 9 10 \n",
            "1 2 3 4 5 6 7 8 9 10 \n",
            "1 2 3 4 5 6 7 8 9 10 \n",
            "1 2 3 4 5 6 7 8 9 10 \n",
            "1 2 3 4 5 6 7 8 9 10 \n"
          ]
        }
      ]
    },
    {
      "cell_type": "markdown",
      "source": [
        "**예제 13** \n",
        "\n",
        "이중 for문을 이용하여 아래와 똑같이 출력하는 코드를 작성하세요\n",
        "\n",
        "```{.no-highlight}\n",
        "1 2 3 4 5 6 \n",
        "1 2 3 4 5 6 \n",
        "1 2 3 4 5 6 \n",
        "1 2 3 4 5 6 \n",
        "1 2 3 4 5 6 \n",
        "1 2 3 4 5 6 \n",
        "1 2 3 4 5 6 \n",
        "```\n"
      ],
      "metadata": {
        "id": "4rEKTyo7QLUM"
      }
    },
    {
      "cell_type": "code",
      "source": [
        "for i in range(7):  \n",
        "  for j in range(1,7):\n",
        "    print(j, end = ' ')\n",
        "  print()    "
      ],
      "metadata": {
        "id": "Tp4yC8fjQLUR",
        "colab": {
          "base_uri": "https://localhost:8080/"
        },
        "outputId": "1c728b30-5e26-453c-c695-9b3e41e512e7"
      },
      "execution_count": null,
      "outputs": [
        {
          "output_type": "stream",
          "name": "stdout",
          "text": [
            "1 2 3 4 5 6 \n",
            "1 2 3 4 5 6 \n",
            "1 2 3 4 5 6 \n",
            "1 2 3 4 5 6 \n",
            "1 2 3 4 5 6 \n",
            "1 2 3 4 5 6 \n",
            "1 2 3 4 5 6 \n"
          ]
        }
      ]
    },
    {
      "cell_type": "markdown",
      "source": [
        "**예제 14** \n",
        "\n",
        "아래와 똑같이 출력하는 코드를 작성하세요\n",
        "\n",
        "```{.no-highlight}\n",
        "2 4 6 8 10 \n",
        "1 3 5 7 9\n",
        "2 4 6 8 10 \n",
        "1 3 5 7 9\n",
        "2 4 6 8 10 \n",
        "1 3 5 7 9\n",
        "2 4 6 8 10 \n",
        "1 3 5 7 9\n",
        "2 4 6 8 10 \n",
        "1 3 5 7 9\n",
        "```\n"
      ],
      "metadata": {
        "id": "9JLqJX-qQS6N"
      }
    },
    {
      "cell_type": "code",
      "source": [
        "# 박수용님 풀이\n",
        "\n",
        "for i in range(2, 11):\n",
        "    if i%2 == 0:\n",
        "        for i in range(2, 11, 2):\n",
        "          print(i, end=' ')\n",
        "    else:\n",
        "        for j in range(1, 10, 2):\n",
        "          print(j, end=' ')\n",
        "    print('', end='\\n')"
      ],
      "metadata": {
        "colab": {
          "base_uri": "https://localhost:8080/"
        },
        "id": "v97Uf-hTUV0V",
        "outputId": "3e280882-95fd-4b20-b51d-5772c233f413"
      },
      "execution_count": 95,
      "outputs": [
        {
          "output_type": "stream",
          "name": "stdout",
          "text": [
            "2 4 6 8 10 \n",
            "1 3 5 7 9 \n",
            "2 4 6 8 10 \n",
            "1 3 5 7 9 \n",
            "2 4 6 8 10 \n",
            "1 3 5 7 9 \n",
            "2 4 6 8 10 \n",
            "1 3 5 7 9 \n",
            "2 4 6 8 10 \n"
          ]
        }
      ]
    },
    {
      "cell_type": "code",
      "source": [
        "# 강사님 풀이\n",
        "\n",
        "for i in range(10):\n",
        "  if i % 2 == 0: start = 2\n",
        "  else: start = 1\n",
        "  for j in range(start, 11, 2):\n",
        "    print(j, end=' ')\n",
        "  print()"
      ],
      "metadata": {
        "colab": {
          "base_uri": "https://localhost:8080/"
        },
        "id": "RkfMtgERIj9v",
        "outputId": "075db363-47d3-4111-f1ad-3bfb88870924"
      },
      "execution_count": 20,
      "outputs": [
        {
          "output_type": "stream",
          "name": "stdout",
          "text": [
            "2 4 6 8 10 \n",
            "1 3 5 7 9 \n",
            "2 4 6 8 10 \n",
            "1 3 5 7 9 \n",
            "2 4 6 8 10 \n",
            "1 3 5 7 9 \n",
            "2 4 6 8 10 \n",
            "1 3 5 7 9 \n",
            "2 4 6 8 10 \n",
            "1 3 5 7 9 \n"
          ]
        }
      ]
    },
    {
      "cell_type": "markdown",
      "source": [
        "**예제 15** \n",
        "\n",
        "for문을 이용하여 아래와 똑같이 출력하는 코드를 작성하세요\n",
        "\n",
        "```{.no-highlight}\n",
        "         *\n",
        "        **\n",
        "       ***\n",
        "      ****\n",
        "     *****\n",
        "    ******\n",
        "   *******\n",
        "  ********\n",
        " *********\n",
        "**********\n",
        "```\n"
      ],
      "metadata": {
        "id": "WsRXZCzzKQuI"
      }
    },
    {
      "cell_type": "code",
      "source": [
        "\n",
        "# for문 사용해도 되고 이중 for문 사용해도 됨\n",
        "for i in range(9,-1,-1):\n",
        "  print(i*' ', (10-i)*'*')\n",
        "\n",
        "for i in reversed(range(1, 10)):\n",
        "  print(' ' * i, '*' * (10-i))\n",
        "\n",
        "for i in range(1, 11):\n",
        "  print(' '*(10-i), end=' ')\n",
        "  for j in range(i):\n",
        "    print('*', end='')\n",
        "  print()\n"
      ],
      "metadata": {
        "id": "uhVOEfvjKRpA",
        "colab": {
          "base_uri": "https://localhost:8080/"
        },
        "outputId": "25825a7c-0db9-4dad-cdd3-04a6f32d8728"
      },
      "execution_count": 99,
      "outputs": [
        {
          "output_type": "stream",
          "name": "stdout",
          "text": [
            "          *\n",
            "         **\n",
            "        ***\n",
            "       ****\n",
            "      *****\n",
            "     ******\n",
            "    *******\n",
            "   ********\n",
            "  *********\n",
            " **********\n",
            "          *\n",
            "         **\n",
            "        ***\n",
            "       ****\n",
            "      *****\n",
            "     ******\n",
            "    *******\n",
            "   ********\n",
            "  *********\n",
            "          *\n",
            "         **\n",
            "        ***\n",
            "       ****\n",
            "      *****\n",
            "     ******\n",
            "    *******\n",
            "   ********\n",
            "  *********\n",
            " **********\n"
          ]
        }
      ]
    },
    {
      "cell_type": "code",
      "source": [
        "# 강사님 해설\n",
        "# for문\n",
        "for i in range(1,11):\n",
        "  print(' '*(10-i) + '*'*(i))\n",
        "\n",
        "# 이중 for문\n",
        "for i in range(1,11):\n",
        "  print(' '*(10-i), end='')\n",
        "  for j in range(i):\n",
        "    print('*', end='')\n",
        "  print()"
      ],
      "metadata": {
        "colab": {
          "base_uri": "https://localhost:8080/"
        },
        "id": "ey-SbXUOJoII",
        "outputId": "acd4004e-e60b-40ff-85a7-8859f7568d78"
      },
      "execution_count": 27,
      "outputs": [
        {
          "output_type": "stream",
          "name": "stdout",
          "text": [
            "         *\n",
            "        **\n",
            "       ***\n",
            "      ****\n",
            "     *****\n",
            "    ******\n",
            "   *******\n",
            "  ********\n",
            " *********\n",
            "**********\n",
            "         *\n",
            "        **\n",
            "       ***\n",
            "      ****\n",
            "     *****\n",
            "    ******\n",
            "   *******\n",
            "  ********\n",
            " *********\n",
            "**********\n"
          ]
        }
      ]
    },
    {
      "cell_type": "markdown",
      "source": [
        "\n",
        "**예제 16** \n",
        "\n",
        "이중 for문을 이용하여 아래와 똑같이 출력하는 코드를 작성하세요.\n",
        "\n",
        "```{.no-highlight}\n",
        "           #\n",
        "           *\n",
        "          ***\n",
        "         *****\n",
        "        *******\n",
        "       *********\n",
        "      ***********\n",
        "     *************\n",
        "    ***************\n",
        "   *****************\n",
        "  -------------------\n",
        "  *******************\n",
        "    MARRY CHRISTMAS !\n",
        "```\n"
      ],
      "metadata": {
        "id": "ZDNCXYGRKSoK"
      }
    },
    {
      "cell_type": "code",
      "source": [
        "#  *  공백 2, 별 1\n",
        "# *** 공백 1, 별 3\n",
        "#*****공백 0, 별 5\n",
        "# 개수 줄여서 풀어보기\n",
        "\n",
        "n = 3 # 공백이 0,1,2이니 range(0, 3)\n",
        "for i in range(1, n+1):\n",
        "    print('',end=' '*int(n-i))\n",
        "    print('*' * int(2*i-1))\n",
        "\n",
        "n = 10\n",
        "for i in range(1, n+1):\n",
        "    print('',end=' '*int(n-i))\n",
        "    print('*' * int(2*i-1))\n",
        "\n",
        "# 이중 for문 강사님 해설\n",
        "print(' '*9+'#')  # 공백 9번에 샵!\n",
        "for i in range(1,21,2):  # i에 1부터 2 증가 20까지 [1, 3, 5, 7, 9, 11...]\n",
        "  print(' '*((20-i)//2), end='')  # 산술연산자 '//'(몫) 공백 9번\n",
        "  if i==19: # 만약 i가 19라면\n",
        "    print('-'*19) # 하이픈을 19번 출력\n",
        "  for j in range(i):\n",
        "    print('*', end='')  # 위에서 받은 i번만큼 *(별표) 출력\n",
        "  print()\n",
        "print(' MARRY CHRISTMAS !')\n"
      ],
      "metadata": {
        "id": "whjpiD-ZKTkc",
        "colab": {
          "base_uri": "https://localhost:8080/"
        },
        "outputId": "338a49d3-0fde-43a2-d093-1843852551e5"
      },
      "execution_count": 121,
      "outputs": [
        {
          "output_type": "stream",
          "name": "stdout",
          "text": [
            "  *\n",
            " ***\n",
            "*****\n",
            "         *\n",
            "        ***\n",
            "       *****\n",
            "      *******\n",
            "     *********\n",
            "    ***********\n",
            "   *************\n",
            "  ***************\n",
            " *****************\n",
            "*******************\n",
            "         #\n",
            "         *\n",
            "        ***\n",
            "       *****\n",
            "      *******\n",
            "     *********\n",
            "    ***********\n",
            "   *************\n",
            "  ***************\n",
            " *****************\n",
            "-------------------\n",
            "*******************\n",
            " MARRY CHRISTMAS !\n"
          ]
        }
      ]
    },
    {
      "cell_type": "markdown",
      "source": [
        "**[정의] 17~22**\n",
        "\n",
        "`apartment`가  다음과 같이 주어져 있습니다. \n",
        "```\n",
        "apartment = [ [201, 202, 203], [301, 302, 303], [401, 402, 403] ]\n",
        "```\n"
      ],
      "metadata": {
        "id": "uS3__jM6KUcG"
      }
    },
    {
      "cell_type": "code",
      "source": [
        "apartment = [ [201, 202, 203], [301, 302, 303], [401, 402, 403] ]"
      ],
      "metadata": {
        "id": "MxQ_LG-9NiDb"
      },
      "execution_count": 122,
      "outputs": []
    },
    {
      "cell_type": "markdown",
      "source": [
        "**예제 17** \n",
        "\n",
        "아래와 같은 결과를 출력하는 코드를 `for문`과 `range`를 이용해 작성하세요\n",
        "\n",
        "```{.no-highlight}\n",
        "201 호 \n",
        "301 호 \n",
        "401 호\n",
        "```\n"
      ],
      "metadata": {
        "id": "1i9-8K7aNKeG"
      }
    },
    {
      "cell_type": "code",
      "source": [
        "for i in range(3):\n",
        "  print(f'{apartment[i][0]} 호')"
      ],
      "metadata": {
        "id": "XWKIxb2-KWVe",
        "colab": {
          "base_uri": "https://localhost:8080/"
        },
        "outputId": "66d23b41-a868-4638-9ee2-8c7ee30db751"
      },
      "execution_count": null,
      "outputs": [
        {
          "output_type": "stream",
          "name": "stdout",
          "text": [
            "201 호\n",
            "301 호\n",
            "401 호\n"
          ]
        }
      ]
    },
    {
      "cell_type": "code",
      "source": [
        "# 강사님 해설\n",
        "\n",
        "for a in apartment:\n",
        "  print(f'{a[0]} 호')"
      ],
      "metadata": {
        "colab": {
          "base_uri": "https://localhost:8080/"
        },
        "id": "NevrnD5Td_J1",
        "outputId": "500e7ece-429c-414b-875f-8b2a9e55035c"
      },
      "execution_count": 124,
      "outputs": [
        {
          "output_type": "stream",
          "name": "stdout",
          "text": [
            "201 호\n",
            "301 호\n",
            "401 호\n"
          ]
        }
      ]
    },
    {
      "cell_type": "markdown",
      "source": [
        "\n",
        "**예제 18** \n",
        "\n",
        "아래와 같은 결과를 출력하는 코드를 `for문`과 `range`를 이용해 작성하세요\n",
        "\n",
        "\n",
        "```{.no-highlight}\n",
        "203 호 \n",
        "303 호 \n",
        "403 호\n",
        "```\n"
      ],
      "metadata": {
        "id": "XNWuysbqNBDo"
      }
    },
    {
      "cell_type": "code",
      "source": [
        "for i in range(3):\n",
        "  print(f'{apartment[i][2]} 호')"
      ],
      "metadata": {
        "id": "lUmfgJwkNDEc",
        "colab": {
          "base_uri": "https://localhost:8080/"
        },
        "outputId": "8c220986-c1f6-456b-8e3f-bbc2e304f126"
      },
      "execution_count": null,
      "outputs": [
        {
          "output_type": "stream",
          "name": "stdout",
          "text": [
            "203 호\n",
            "303 호\n",
            "403 호\n"
          ]
        }
      ]
    },
    {
      "cell_type": "code",
      "source": [
        "# 강사님 해설\n",
        "\n",
        "for i in range(len(apartment)):\n",
        "  print(f'{apartment[i][2]} 호')"
      ],
      "metadata": {
        "colab": {
          "base_uri": "https://localhost:8080/"
        },
        "id": "iTe-MvOpeLx9",
        "outputId": "b394e9d5-0906-4852-b18d-f25f0bdf7902"
      },
      "execution_count": 125,
      "outputs": [
        {
          "output_type": "stream",
          "name": "stdout",
          "text": [
            "203 호\n",
            "303 호\n",
            "403 호\n"
          ]
        }
      ]
    },
    {
      "cell_type": "markdown",
      "source": [
        "**예제 19** \n",
        "\n",
        "아래와 같은 결과를 출력하는 코드를 `for문`과 `range`를 이용해 작성하세요\n",
        "\n",
        "\n",
        "```{.no-highlight}\n",
        "402 호 \n",
        "302 호 \n",
        "202 호 \n",
        "```\n"
      ],
      "metadata": {
        "id": "UR9FqS84NO7w"
      }
    },
    {
      "cell_type": "code",
      "source": [
        "for i in range(2, -1, -1):\n",
        "  print(f'{apartment[i][1]} 호')\n",
        "\n",
        "print('-'*8)\n",
        "\n",
        "for i in reversed(range(3)):\n",
        "  print(f'{apartment[i][1]} 호')"
      ],
      "metadata": {
        "id": "lWTZMYfLNRxy",
        "colab": {
          "base_uri": "https://localhost:8080/"
        },
        "outputId": "605175d3-75ed-4551-fe30-f8a6b73a2e97"
      },
      "execution_count": 129,
      "outputs": [
        {
          "output_type": "stream",
          "name": "stdout",
          "text": [
            "402 호\n",
            "302 호\n",
            "202 호\n",
            "--------\n",
            "402 호\n",
            "302 호\n",
            "202 호\n"
          ]
        }
      ]
    },
    {
      "cell_type": "code",
      "source": [
        "# 강사님 해설\n",
        "\n",
        "for i in range(len(apartment)):\n",
        "  print(f'{apartment[-(i+1)][1]} 호')"
      ],
      "metadata": {
        "colab": {
          "base_uri": "https://localhost:8080/"
        },
        "id": "9XVWZbGAerCU",
        "outputId": "cfea65bd-5647-4d90-bac6-683f4c5598c0"
      },
      "execution_count": 126,
      "outputs": [
        {
          "output_type": "stream",
          "name": "stdout",
          "text": [
            "402 호\n",
            "302 호\n",
            "202 호\n"
          ]
        }
      ]
    },
    {
      "cell_type": "markdown",
      "source": [
        "**예제 20** \n",
        "\n",
        "아래와 같은 결과를 출력하는 코드를 `for문`과 `range`를 이용해 작성하세요\n",
        "\n",
        "```{.no-highlight}\n",
        "201 호 옆집은 202 호\n",
        "301 호 옆집은 302 호\n",
        "401 호 옆집은 402 호\n",
        "```\n"
      ],
      "metadata": {
        "id": "DgUcIZAxNTTm"
      }
    },
    {
      "cell_type": "code",
      "source": [
        "for i in range(3):\n",
        "  print(f'{apartment[i][0]} 호 옆집은 {apartment[i][1]} 호')"
      ],
      "metadata": {
        "id": "WgGC6KnONWkO",
        "colab": {
          "base_uri": "https://localhost:8080/"
        },
        "outputId": "fb44aef1-b8a1-4f4e-a699-3feab6a5b748"
      },
      "execution_count": 131,
      "outputs": [
        {
          "output_type": "stream",
          "name": "stdout",
          "text": [
            "201 호 옆집은 202 호\n",
            "301 호 옆집은 302 호\n",
            "401 호 옆집은 402 호\n"
          ]
        }
      ]
    },
    {
      "cell_type": "code",
      "source": [
        "# 강사님 해설\n",
        "\n",
        "for i in range(len(apartment)):\n",
        "  print(f'{apartment[i][0]} 호 옆집은 {apartment[(i)][1]}')"
      ],
      "metadata": {
        "colab": {
          "base_uri": "https://localhost:8080/"
        },
        "id": "HJbctxqqfenU",
        "outputId": "666bc464-da67-4550-b17a-306ce26eec44"
      },
      "execution_count": 130,
      "outputs": [
        {
          "output_type": "stream",
          "name": "stdout",
          "text": [
            "201 호 옆집은 202\n",
            "301 호 옆집은 302\n",
            "401 호 옆집은 402\n"
          ]
        }
      ]
    },
    {
      "cell_type": "markdown",
      "source": [
        "\n",
        "**예제 21** \n",
        "\n",
        "아래와 같은 결과를 출력하는 코드를 `for문`과 `range`를 이용해 작성하세요\n",
        "\n",
        "```{.no-highlight}\n",
        "201 호 윗층은 301 호 윗층은 401호\n",
        "202 호 윗층은 302 호 윗층은 402호\n",
        "203 호 윗층은 303 호 윗층은 403호\n",
        "```\n"
      ],
      "metadata": {
        "id": "UpeuvLh8NYEi"
      }
    },
    {
      "cell_type": "code",
      "source": [
        "for i in range(3):\n",
        "  print(f'{apartment[0][i]} 호 윗층은 {apartment[1][i]} 호 윗층은 {apartment[2][i]}호')"
      ],
      "metadata": {
        "id": "X473dVz5NbIW",
        "colab": {
          "base_uri": "https://localhost:8080/"
        },
        "outputId": "66a928d1-c2a9-430d-aa60-498acc4d1b0e"
      },
      "execution_count": 136,
      "outputs": [
        {
          "output_type": "stream",
          "name": "stdout",
          "text": [
            "201 호 윗층은 301 호 윗층은 401호\n",
            "202 호 윗층은 302 호 윗층은 402호\n",
            "203 호 윗층은 303 호 윗층은 403호\n"
          ]
        }
      ]
    },
    {
      "cell_type": "code",
      "source": [
        "# 강사님 해설\n",
        "\n",
        "for i in range(len(apartment)):\n",
        "  print(f'{apartment[0][i]} 호 윗층은 {apartment[1][i]} 호 윗층은 {apartment[2][i]}호')"
      ],
      "metadata": {
        "colab": {
          "base_uri": "https://localhost:8080/"
        },
        "id": "v-URUsFgf3lj",
        "outputId": "f6c5da4f-c7e4-476c-f422-2fae5be85969"
      },
      "execution_count": 149,
      "outputs": [
        {
          "output_type": "stream",
          "name": "stdout",
          "text": [
            "201 호 윗층은 301 호 윗층은 401호\n",
            "202 호 윗층은 302 호 윗층은 402호\n",
            "203 호 윗층은 303 호 윗층은 403호\n"
          ]
        }
      ]
    },
    {
      "cell_type": "markdown",
      "source": [
        "**예제 22** \n",
        "\n",
        "아래와 같은 결과를 출력하는 코드를 `for문`과 `range`를 이용해 작성하세요\n",
        "\n",
        "\n",
        "```{.no-highlight}\n",
        "201 호 \n",
        "202 호\n",
        "203 호\n",
        "301 호\n",
        "302 호\n",
        "303 호\n",
        "401 호 \n",
        "402 호\n",
        "403 호\n",
        "```"
      ],
      "metadata": {
        "id": "sEoNppGDNcdX"
      }
    },
    {
      "cell_type": "code",
      "source": [
        "for i in range(2, 5):\n",
        "  for j in range(1,4):\n",
        "    print(f'{i}0{j} 호')"
      ],
      "metadata": {
        "id": "YAtaBHGkNekE",
        "colab": {
          "base_uri": "https://localhost:8080/"
        },
        "outputId": "ec385b73-80ec-434c-d070-041a75ad5cd9"
      },
      "execution_count": null,
      "outputs": [
        {
          "output_type": "stream",
          "name": "stdout",
          "text": [
            "201 호\n",
            "202 호\n",
            "203 호\n",
            "301 호\n",
            "302 호\n",
            "303 호\n",
            "401 호\n",
            "402 호\n",
            "403 호\n"
          ]
        }
      ]
    },
    {
      "cell_type": "code",
      "source": [
        "# 강사님 해설\n",
        "\n",
        "for i in range(len(apartment)):\n",
        "  for j in range(len(apartment[i])):\n",
        "    print(f'{apartment[i][j]} 호')"
      ],
      "metadata": {
        "colab": {
          "base_uri": "https://localhost:8080/"
        },
        "id": "LFBNV4AYiXjs",
        "outputId": "e8bf3647-3aa4-488e-dee7-5d549f19baa5"
      },
      "execution_count": 150,
      "outputs": [
        {
          "output_type": "stream",
          "name": "stdout",
          "text": [
            "201 호\n",
            "202 호\n",
            "203 호\n",
            "301 호\n",
            "302 호\n",
            "303 호\n",
            "401 호\n",
            "402 호\n",
            "403 호\n"
          ]
        }
      ]
    },
    {
      "cell_type": "markdown",
      "source": [
        "**예제 23** \n",
        "\n",
        "1, 4, 7, 10, 13 ... 31 을 `for문`과 `range`를 이용해서 출력하세요\n"
      ],
      "metadata": {
        "id": "viZj-9fZNfeh"
      }
    },
    {
      "cell_type": "code",
      "source": [
        "for i in range(1, 32, 3):\n",
        "  print(i, end= ',')\n",
        "  if i != 31: continue\n",
        "  print(i, end='')"
      ],
      "metadata": {
        "id": "c8vZWw5kNfrU",
        "colab": {
          "base_uri": "https://localhost:8080/"
        },
        "outputId": "99a0ac2a-47f4-4b68-8e4f-b10d7f2576df"
      },
      "execution_count": null,
      "outputs": [
        {
          "output_type": "stream",
          "name": "stdout",
          "text": [
            "1,4,7,10,13,16,19,22,25,28,31,31"
          ]
        }
      ]
    },
    {
      "cell_type": "code",
      "source": [
        "# 강사님 해설\n",
        "\n",
        "l = [str(i) for i in range(1,32,3)]\n",
        "print(l)  # 확인\n",
        "\n",
        "\n",
        "print(','.join([str(i) for i in range(1,32,3)]))  # 1에서 3씩 증가하여 31까지 리스트로 받아 콤마로 조인"
      ],
      "metadata": {
        "colab": {
          "base_uri": "https://localhost:8080/"
        },
        "id": "TeK1z9cSioHq",
        "outputId": "322d0192-2ef6-4086-c9ed-5f524352abef"
      },
      "execution_count": 154,
      "outputs": [
        {
          "output_type": "stream",
          "name": "stdout",
          "text": [
            "['1', '4', '7', '10', '13', '16', '19', '22', '25', '28', '31']\n",
            "1,4,7,10,13,16,19,22,25,28,31\n"
          ]
        }
      ]
    },
    {
      "cell_type": "markdown",
      "source": [
        "**예제 24** \n",
        "\n",
        "아래와 같이 n을 인풋으로 하면 1부터 n까지 더한 값을 출력하는 함수 `add_nums(n)`를 만드세요\n",
        "\n",
        "\n",
        "```\n",
        ">> add_nums_line(5)\n",
        "1\n",
        "3\n",
        "6\n",
        "10\n",
        "15\n",
        "```\n"
      ],
      "metadata": {
        "id": "j3SEY_qcNgro"
      }
    },
    {
      "cell_type": "code",
      "source": [
        "def add_nums_line(n):\n",
        "  a = 0\n",
        "  for i in range(1, n+1):\n",
        "    a += i\n",
        "    print(a)\n",
        "\n",
        "add_nums_line(5)"
      ],
      "metadata": {
        "id": "cQpQuNFTNg1s",
        "colab": {
          "base_uri": "https://localhost:8080/"
        },
        "outputId": "cedb36d0-58e4-4f0b-d24f-1cc004fbdcdd"
      },
      "execution_count": null,
      "outputs": [
        {
          "output_type": "stream",
          "name": "stdout",
          "text": [
            "1\n",
            "3\n",
            "6\n",
            "10\n",
            "15\n"
          ]
        }
      ]
    },
    {
      "cell_type": "markdown",
      "source": [
        "**[정의] 25~28**\n",
        "\n",
        "`num_list`가 아래와 같이 정의되어 있습니다. \n",
        "\n",
        "```\n",
        "num_list = [0,2,3,5,6,12,15,17,18,23,25,27,45,47,48,53,57,58,59,60,63,64,68,72,75,79,86,93,96,99,100]\n",
        "```"
      ],
      "metadata": {
        "id": "fcoUNSiXNqjr"
      }
    },
    {
      "cell_type": "code",
      "source": [
        "num_list = [0,2,3,5,6,12,15,17,18,23,25,27,45,47,48,53,57,58,59,60,63,64,68,72,75,79,86,93,96,99,100]"
      ],
      "metadata": {
        "id": "VQnWtngfNqvM"
      },
      "execution_count": 156,
      "outputs": []
    },
    {
      "cell_type": "markdown",
      "source": [
        "**예제 25**\n",
        "\n",
        "`num_list` 중 4의 배수만 출력하세요\n"
      ],
      "metadata": {
        "id": "pq1r8LqKNvCB"
      }
    },
    {
      "cell_type": "code",
      "source": [
        "for i in num_list:\n",
        "  if i%4 == 0 and i >= 4: # i가 4보다 크거나 같고 4의 배수이면\n",
        "    print(i)"
      ],
      "metadata": {
        "id": "yPjF8T57Nxd1",
        "colab": {
          "base_uri": "https://localhost:8080/"
        },
        "outputId": "4b7a0a76-6cbd-4aa5-c328-378905ab3e8c"
      },
      "execution_count": 163,
      "outputs": [
        {
          "output_type": "stream",
          "name": "stdout",
          "text": [
            "12\n",
            "48\n",
            "60\n",
            "64\n",
            "68\n",
            "72\n",
            "96\n",
            "100\n"
          ]
        }
      ]
    },
    {
      "cell_type": "markdown",
      "source": [
        "\n",
        "**예제 26** \n",
        "\n",
        "`num_list` 중 50 이하인 5의 배수만 출력하세요\n",
        "\n"
      ],
      "metadata": {
        "id": "1jktkqlVNzAt"
      }
    },
    {
      "cell_type": "code",
      "source": [
        "for i in num_list:\n",
        "  if (i <= 50) and (i % 5 == 0) and (i >= 5): # i가 5크거나 같고 5의 배수이면서, 50이하인 수\n",
        "    print(i)"
      ],
      "metadata": {
        "id": "D8iepJF8N0kc",
        "colab": {
          "base_uri": "https://localhost:8080/"
        },
        "outputId": "5bec8e35-b3a5-4ad4-b4a6-01e04f72d3bb"
      },
      "execution_count": 161,
      "outputs": [
        {
          "output_type": "stream",
          "name": "stdout",
          "text": [
            "5\n",
            "15\n",
            "25\n",
            "45\n"
          ]
        }
      ]
    },
    {
      "cell_type": "markdown",
      "source": [
        "**예제 27** \n",
        "\n",
        "`num_list` 중 각 자리수를 더해서 10이 넘는 숫자만 출력하세요\n"
      ],
      "metadata": {
        "id": "7ZhV5ExNN1ai"
      }
    },
    {
      "cell_type": "code",
      "source": [
        "for i in num_list:\n",
        "  if len(str(i)) >=2:\n",
        "    if int(str(i)[0])+int(str(i)[1])>= 10:\n",
        "      print(i)\n",
        "\n"
      ],
      "metadata": {
        "id": "cQAChnLFN26k",
        "colab": {
          "base_uri": "https://localhost:8080/"
        },
        "outputId": "18fd627e-4dc5-461a-a74c-47f62fa73505"
      },
      "execution_count": null,
      "outputs": [
        {
          "output_type": "stream",
          "name": "stdout",
          "text": [
            "47\n",
            "48\n",
            "57\n",
            "58\n",
            "59\n",
            "64\n",
            "68\n",
            "75\n",
            "79\n",
            "86\n",
            "93\n",
            "96\n",
            "99\n"
          ]
        }
      ]
    },
    {
      "cell_type": "code",
      "source": [
        "# 강사님 해설\n",
        "\n",
        "for n in num_list:\n",
        "  if (n//10 + n%10) > 10: # 10보다 큰 리스트안에 숫자의 십의 자릿수 + 일의 자릿수\n",
        "    print(n)"
      ],
      "metadata": {
        "colab": {
          "base_uri": "https://localhost:8080/"
        },
        "id": "FuVzRPQxkL8c",
        "outputId": "f4aaeedd-3b01-416b-b8b6-d544bb705105"
      },
      "execution_count": 165,
      "outputs": [
        {
          "output_type": "stream",
          "name": "stdout",
          "text": [
            "47\n",
            "48\n",
            "57\n",
            "58\n",
            "59\n",
            "68\n",
            "75\n",
            "79\n",
            "86\n",
            "93\n",
            "96\n",
            "99\n"
          ]
        }
      ]
    },
    {
      "cell_type": "markdown",
      "source": [
        "**예제 28** \n",
        "\n",
        "`num_list` 중 가장 작은 7의 배수를 찾으세요. (hint: `break`을 반드시 포함하세요)\n"
      ],
      "metadata": {
        "id": "uCoRYjMoN4Js"
      }
    },
    {
      "cell_type": "code",
      "source": [
        "for i in num_list:\n",
        "  if (i != 0) and (i % 7 == 0): break\n",
        "print(i)"
      ],
      "metadata": {
        "id": "Cwox2wbDN6B9",
        "colab": {
          "base_uri": "https://localhost:8080/"
        },
        "outputId": "576a6781-c777-46ee-bae5-9956b5a5fd27"
      },
      "execution_count": null,
      "outputs": [
        {
          "output_type": "stream",
          "name": "stdout",
          "text": [
            "63\n"
          ]
        }
      ]
    },
    {
      "cell_type": "code",
      "source": [
        "# 강사님 해설\n",
        "\n",
        "for n in sorted(num_list):  # 오름차순하여\n",
        "  if n%7 == 0 and n >= 7: # 7보다 크거나 같은 7의 배수\n",
        "    print(n)\n",
        "    break"
      ],
      "metadata": {
        "colab": {
          "base_uri": "https://localhost:8080/"
        },
        "id": "KFrFLDHDk_Uj",
        "outputId": "3a579d30-9bc8-438a-bf9b-3dc37e9141ca"
      },
      "execution_count": 167,
      "outputs": [
        {
          "output_type": "stream",
          "name": "stdout",
          "text": [
            "63\n"
          ]
        }
      ]
    },
    {
      "cell_type": "markdown",
      "source": [
        "**예제 29** \n",
        "\n",
        "학생들의 번호와 점수가 딕셔너리에 아래와 같이 저장되어 있습니다. 전산 실수로 인해 점수가 실제 점수보다 10점이 깍인것을 발견했습니다. 점수를 모두 10점씩 올리세요\n",
        "\n",
        "```\n",
        "st_scores = {1:80, 2:55, 3:80, 4:35, 5:75, 6: 80, 7:40, 8: 90, 9:55, 10:20}\n",
        "```\n"
      ],
      "metadata": {
        "id": "AYVG1GMfN7A7"
      }
    },
    {
      "cell_type": "code",
      "source": [
        "st_scores = {1:80, 2:55, 3:80, 4:35, 5:75, 6: 80, 7:40, 8: 90, 9:55, 10:20}\n",
        "\n",
        "for i in range(1,11):\n",
        "  st_scores[i]=st_scores[i] + 10\n",
        "print(st_scores)"
      ],
      "metadata": {
        "id": "3eRFw6f7N7SD",
        "colab": {
          "base_uri": "https://localhost:8080/"
        },
        "outputId": "edb3f7f0-6572-4e2f-fcba-35c51d06adc0"
      },
      "execution_count": null,
      "outputs": [
        {
          "output_type": "stream",
          "name": "stdout",
          "text": [
            "{1: 90, 2: 65, 3: 90, 4: 45, 5: 85, 6: 90, 7: 50, 8: 100, 9: 65, 10: 30}\n"
          ]
        }
      ]
    },
    {
      "cell_type": "code",
      "source": [
        "# 강사님 해설\n",
        "\n",
        "st_scores = {1:80, 2:55, 3:80, 4:35, 5:75, 6: 80, 7:40, 8: 90, 9:55, 10:20}\n",
        "st_scores = {k:v+10 for k, v in st_scores.items()}  #st_scores를 key, value로 바인딩후 각 value에 10을 더해줌\n",
        "st_scores"
      ],
      "metadata": {
        "colab": {
          "base_uri": "https://localhost:8080/"
        },
        "id": "aMVChwx1lYuL",
        "outputId": "95b6007c-aa1f-4bcd-acb8-85334f8483f5"
      },
      "execution_count": 172,
      "outputs": [
        {
          "output_type": "execute_result",
          "data": {
            "text/plain": [
              "{1: 90, 2: 65, 3: 90, 4: 45, 5: 85, 6: 90, 7: 50, 8: 100, 9: 65, 10: 30}"
            ]
          },
          "metadata": {},
          "execution_count": 172
        }
      ]
    },
    {
      "cell_type": "markdown",
      "source": [
        "\n",
        "**예제 30** \n",
        "\n",
        "60점 미만인 학생들에게 \"재평가가 실시될 예정입니다.\", 90점 이상인 학생들에게 \"우수장학금이 지급됩니다.\"를 출력하는 코드를 작성하세요. 단, 코드내에 continue를 반드시 포함하세요\n"
      ],
      "metadata": {
        "id": "o-QPq1PEN8SL"
      }
    },
    {
      "cell_type": "code",
      "source": [
        "# 강사님 풀이\n",
        "\n",
        "for n, score in st_scores.items():  # st_scores의 키를 n에 value를 score에\n",
        "  if 60 <= score <90: continue  # 점수가 60점 이상 90점 이하 아무것도 하지않음\n",
        "  \n",
        "  if score<60:  # 점수가 60점 미만이라면\n",
        "    print(f'{n}번 학생 재평가가 실시될 예정입니다.')\n",
        "  else: # 점수가 90점 이상이라면\n",
        "    print(f'{n}번 우수장학금이 지급됩니다.') "
      ],
      "metadata": {
        "id": "IZESB5EJN8wb",
        "colab": {
          "base_uri": "https://localhost:8080/"
        },
        "outputId": "4194bccf-9cbc-4e42-dfc2-673a5d09e62c"
      },
      "execution_count": 176,
      "outputs": [
        {
          "output_type": "stream",
          "name": "stdout",
          "text": [
            "1번 우수장학금이 지급됩니다.\n",
            "3번 우수장학금이 지급됩니다.\n",
            "4번 학생 재평가가 실시될 예정입니다.\n",
            "6번 우수장학금이 지급됩니다.\n",
            "7번 학생 재평가가 실시될 예정입니다.\n",
            "8번 우수장학금이 지급됩니다.\n",
            "10번 학생 재평가가 실시될 예정입니다.\n"
          ]
        }
      ]
    },
    {
      "cell_type": "markdown",
      "source": [
        "**[정의] 31~33**\n",
        "\n",
        "아래와 같이 물건의 이름과 가격이 적힌 딕셔너리가 있습니다. \n",
        "```\n",
        "mart = {'a': ['apple', 1000], 'b': ['beer', 1200] , 'c' : ['cherry', 2000], 'd':['donut', 1500], 'e': ['egg', 500], 'f' : ['fish', 3000] }\n",
        "```"
      ],
      "metadata": {
        "id": "h_SXbGKc5PT0"
      }
    },
    {
      "cell_type": "code",
      "source": [
        "mart = {'a': ['apple', 1000], 'b': ['beer', 1200] , 'c' : ['cherry', 2000], 'd':['donut', 1500], 'e': ['egg', 500], 'f' : ['fish', 3000] }"
      ],
      "metadata": {
        "id": "YM87Yqe88TUc"
      },
      "execution_count": 177,
      "outputs": []
    },
    {
      "cell_type": "markdown",
      "source": [
        "**예제 31**\n",
        "\n",
        "가장 저렴한 값을 구하는 코드를 `map`과 `lambda`를 사용하지 않고 `for`문을 이용해 한줄로 작성하세요.\n"
      ],
      "metadata": {
        "id": "gmuKcuaw8UVN"
      }
    },
    {
      "cell_type": "code",
      "source": [
        "l = min([i[1] for i in mart.values()])\n",
        "print(l)"
      ],
      "metadata": {
        "id": "mRmXH7jT56SD",
        "colab": {
          "base_uri": "https://localhost:8080/"
        },
        "outputId": "3dc7b172-dcdf-4b2d-e0fa-648bc04e2ba0"
      },
      "execution_count": 180,
      "outputs": [
        {
          "output_type": "stream",
          "name": "stdout",
          "text": [
            "500\n"
          ]
        }
      ]
    },
    {
      "cell_type": "code",
      "source": [
        "# 강사님 해설\n",
        "\n",
        "min([x[1] for x in mart.values()])"
      ],
      "metadata": {
        "colab": {
          "base_uri": "https://localhost:8080/"
        },
        "id": "MV930fl9nW38",
        "outputId": "799926bf-739f-4ef8-9ec6-550d1514b11a"
      },
      "execution_count": 181,
      "outputs": [
        {
          "output_type": "execute_result",
          "data": {
            "text/plain": [
              "500"
            ]
          },
          "metadata": {},
          "execution_count": 181
        }
      ]
    },
    {
      "cell_type": "markdown",
      "source": [
        "**예제 32**\n",
        "\n",
        "가격의 평균을 구하는 코드를 `map`과 `lambda`를 사용하지 않고 `for`문을 이용해 한줄로 작성하세요.\n"
      ],
      "metadata": {
        "id": "fotQGh2f8iIN"
      }
    },
    {
      "cell_type": "code",
      "source": [
        "l = sum([i[1] for i in mart.values()])/len(mart.values())\n",
        "print(l)"
      ],
      "metadata": {
        "id": "8ATN4dmV6cc7",
        "colab": {
          "base_uri": "https://localhost:8080/"
        },
        "outputId": "1dc7e3cd-001c-42fb-a2fb-32854ec3ec40"
      },
      "execution_count": 185,
      "outputs": [
        {
          "output_type": "stream",
          "name": "stdout",
          "text": [
            "1533.3333333333333\n"
          ]
        }
      ]
    },
    {
      "cell_type": "code",
      "source": [
        "# 강사님 해설\n",
        "\n",
        "sum([x[1] for x in mart.values()])/len(mart.values())"
      ],
      "metadata": {
        "colab": {
          "base_uri": "https://localhost:8080/"
        },
        "id": "Hm77gbZan-ab",
        "outputId": "a7fa3529-629d-405e-ab8f-cd2ed7c8cd37"
      },
      "execution_count": 186,
      "outputs": [
        {
          "output_type": "execute_result",
          "data": {
            "text/plain": [
              "1533.3333333333333"
            ]
          },
          "metadata": {},
          "execution_count": 186
        }
      ]
    },
    {
      "cell_type": "markdown",
      "source": [
        "**예제 33**\n",
        "\n",
        "다음과 같은 출력을 하는 코드를  `for`문을 이용해 한줄로 작성하세요.\n",
        "가능하다면 코드 한줄로 작성해 보세요.\n",
        "\n",
        "```\n",
        "a is apple, b is beer, c is cherry, d is donut, e is egg, f is fish\n",
        "```"
      ],
      "metadata": {
        "id": "Y7uHNJEbySNT"
      }
    },
    {
      "cell_type": "code",
      "source": [
        "#for i in mart.keys():\n",
        "#  print(f'{i} is {mart[i][0]}')\n",
        "l = ', '.join([f'{i} is {mart[i][0]}' for i in mart.keys()])\n",
        "print(l)"
      ],
      "metadata": {
        "id": "W2LblbxH45qc",
        "colab": {
          "base_uri": "https://localhost:8080/"
        },
        "outputId": "6d5564fa-09c3-4094-b082-bc2ffadc6c3d"
      },
      "execution_count": 188,
      "outputs": [
        {
          "output_type": "stream",
          "name": "stdout",
          "text": [
            "a is apple, b is beer, c is cherry, d is donut, e is egg, f is fish\n"
          ]
        }
      ]
    },
    {
      "cell_type": "code",
      "source": [
        "# 강사님 해설\n",
        "\n",
        "print(', '.join([f'{x} is {mart[x][0]}' for x in mart.keys()]))\n",
        "print(', '.join([f'{x} is {v[0]}' for x, v in mart.items()]))"
      ],
      "metadata": {
        "id": "qSQpZTnAsbly",
        "colab": {
          "base_uri": "https://localhost:8080/"
        },
        "outputId": "dd93b63f-c6c1-4314-a35d-f271cfc30f86"
      },
      "execution_count": 189,
      "outputs": [
        {
          "output_type": "stream",
          "name": "stdout",
          "text": [
            "a is apple, b is beer, c is cherry, d is donut, e is egg, f is fish\n",
            "a is apple, b is beer, c is cherry, d is donut, e is egg, f is fish\n"
          ]
        }
      ]
    }
  ]
}