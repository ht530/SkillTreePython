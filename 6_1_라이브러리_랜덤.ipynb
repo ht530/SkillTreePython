{
  "nbformat": 4,
  "nbformat_minor": 0,
  "metadata": {
    "colab": {
      "provenance": [],
      "include_colab_link": true
    },
    "kernelspec": {
      "name": "python3",
      "display_name": "Python 3"
    },
    "language_info": {
      "name": "python"
    }
  },
  "cells": [
    {
      "cell_type": "markdown",
      "metadata": {
        "id": "view-in-github",
        "colab_type": "text"
      },
      "source": [
        "<a href=\"https://colab.research.google.com/github/ht530/SkillTreePython/blob/main/6_1_%EB%9D%BC%EC%9D%B4%EB%B8%8C%EB%9F%AC%EB%A6%AC_%EB%9E%9C%EB%8D%A4.ipynb\" target=\"_parent\"><img src=\"https://colab.research.google.com/assets/colab-badge.svg\" alt=\"Open In Colab\"/></a>"
      ]
    },
    {
      "cell_type": "markdown",
      "metadata": {
        "id": "jgFAOz-Tw1VI"
      },
      "source": [
        "# 6-1.라이브러리: 랜덤\n",
        "---\n",
        "* 날짜:\n",
        "* 이름:\n"
      ]
    },
    {
      "cell_type": "markdown",
      "metadata": {
        "id": "roC8A6Ro6THT"
      },
      "source": [
        "## 개념정리\n",
        "---\n",
        "\n",
        "전세계의 파이썬 사용자들이 유용한 라이브러리를 만들어 놓았습니다. 수많은 파이썬 라이브러리가 있지만 그중에서도 유용하고 기본적인 라이브러리를 알아보도록 하겠습니다. \n",
        "\n",
        "주사위를 던지거나 복권추첨 등 난수를 이용해서 코드를 짜야할 때가 종종 있습니다. 파이썬에서 난수를 만드는 방법을 알아보도록 하겠습니다. 난수를 만드는 모듈은 **random** 을 이용합니다. "
      ]
    },
    {
      "cell_type": "markdown",
      "metadata": {
        "id": "HjPXsM8C5ULZ"
      },
      "source": [
        "### **(1) 라이브러리 임포트(import)**\n",
        "\n",
        "아래와 같이 `random` 모듈을 `import` 해줍니다.\n",
        "\n",
        "```\n",
        "import random\n",
        "```\n"
      ]
    },
    {
      "cell_type": "code",
      "metadata": {
        "id": "9pxx7Zy53xFz",
        "colab": {
          "base_uri": "https://localhost:8080/"
        },
        "outputId": "4892b587-3779-4cbd-9f26-87ec0d4f6465"
      },
      "source": [
        "import random # random 라이브러리 가져오기\n",
        "# sum() 내장함수 - 파이썬 자체 함수\n",
        "#l = [1, 2, 3, 4]\n",
        "# 평균 구하는 함수\n",
        "#def mean(l):\n",
        "#  return sum(l)/len(l)"
      ],
      "execution_count": 5,
      "outputs": [
        {
          "output_type": "execute_result",
          "data": {
            "text/plain": [
              "2.5"
            ]
          },
          "metadata": {},
          "execution_count": 5
        }
      ]
    },
    {
      "cell_type": "markdown",
      "source": [
        "### **(2) 기본 사용 : `random`**"
      ],
      "metadata": {
        "id": "4hBv297VxWGr"
      }
    },
    {
      "cell_type": "markdown",
      "metadata": {
        "id": "o4Y67BgLKmxO"
      },
      "source": [
        "#### **랜덤값 생성**\n",
        "\n"
      ]
    },
    {
      "cell_type": "markdown",
      "metadata": {
        "id": "zD6gfuVD3xwx"
      },
      "source": [
        "* `random.random` : 0과 1사이의 난수를 무작위로 생성합니다.\n",
        "\n",
        "```\n",
        "random.random()\n",
        "```\n",
        "\n"
      ]
    },
    {
      "cell_type": "code",
      "metadata": {
        "id": "OaowHk_83leh",
        "colab": {
          "base_uri": "https://localhost:8080/"
        },
        "outputId": "8ceec4c0-2942-4a8c-e11e-37d26c9ed172"
      },
      "source": [
        "random.random()"
      ],
      "execution_count": 7,
      "outputs": [
        {
          "output_type": "execute_result",
          "data": {
            "text/plain": [
              "0.24729332844752028"
            ]
          },
          "metadata": {},
          "execution_count": 7
        }
      ]
    },
    {
      "cell_type": "markdown",
      "metadata": {
        "id": "BOwMgkiC4RqB"
      },
      "source": [
        "* `random.randint`: 특정 범위 랜덤한 정수를 무작위로 생성합니다. (a이상 b 이하)\n",
        "\n",
        "```\n",
        "random.randint(a, b)\n",
        "```\n",
        "\n"
      ]
    },
    {
      "cell_type": "code",
      "metadata": {
        "id": "_zG33m-S4RqI",
        "colab": {
          "base_uri": "https://localhost:8080/"
        },
        "outputId": "82eb6c87-df54-4861-e8a3-78393a7d4830"
      },
      "source": [
        "random.randint(1, 3)"
      ],
      "execution_count": 9,
      "outputs": [
        {
          "output_type": "execute_result",
          "data": {
            "text/plain": [
              "1"
            ]
          },
          "metadata": {},
          "execution_count": 9
        }
      ]
    },
    {
      "cell_type": "markdown",
      "metadata": {
        "id": "CbpP-qatLAmI"
      },
      "source": [
        "#### **랜덤값 추출**"
      ]
    },
    {
      "cell_type": "markdown",
      "metadata": {
        "id": "uETLiTpC5OQd"
      },
      "source": [
        "* `random.choice`: 주어진 sequence 에서 랜덤으로 한개의 요소를 뽑습니다.\n",
        "\n",
        "```\n",
        "a = [1,2,3] # 리스트 a가 주어졌을 때 \n",
        "b = random.choice(a) # a의 요소 중 한개를 뽑아 b로 바인딩\n",
        "print(b)\n",
        "```\n",
        "\n"
      ]
    },
    {
      "cell_type": "code",
      "metadata": {
        "id": "MKMHr7p651mJ",
        "colab": {
          "base_uri": "https://localhost:8080/"
        },
        "outputId": "6dc99bf2-35f1-4251-ba7a-496a2aef7e94"
      },
      "source": [
        "a = [1, 2, 3] # 리스트 a가 주어졌을 때\n",
        "b = random.choice(a)  # a의 요소 중 한개를 뽑아 b로 바인딩\n",
        "print(b)"
      ],
      "execution_count": 13,
      "outputs": [
        {
          "output_type": "stream",
          "name": "stdout",
          "text": [
            "2\n"
          ]
        }
      ]
    },
    {
      "cell_type": "markdown",
      "metadata": {
        "id": "PbidqOm3z7sn"
      },
      "source": [
        "* `random.choices` : 주어진 sequence 에서 랜덤으로 k개의 요소를 뽑습니다. 중복이 가능합니다.\n",
        "\n",
        "```\n",
        "a = [1,2,3] # 리스트 a가 주어졌을 때 \n",
        "b = random.choices(a, k=2) # a의 요소 중 k개를 뽑아 b로 바인딩\n",
        "print(b)\n",
        "```\n",
        "\n"
      ]
    },
    {
      "cell_type": "code",
      "metadata": {
        "id": "sgyxjWvLz7sv",
        "colab": {
          "base_uri": "https://localhost:8080/"
        },
        "outputId": "805b2fd2-98d0-4f2a-f5b2-6fd453444199"
      },
      "source": [
        "a = [1,2,3] # 리스트 a가 주어졌을 때 \n",
        "b = random.choices(a, k=2) # a의 요소 중 k개를 뽑아 b로 바인딩\n",
        "print(b)"
      ],
      "execution_count": 16,
      "outputs": [
        {
          "output_type": "stream",
          "name": "stdout",
          "text": [
            "[1, 3]\n"
          ]
        }
      ]
    },
    {
      "cell_type": "markdown",
      "metadata": {
        "id": "A17ZgbqfK3lr"
      },
      "source": [
        "#### **기타**"
      ]
    },
    {
      "cell_type": "markdown",
      "metadata": {
        "id": "9od_vtK84u_4"
      },
      "source": [
        "* `random.shuffle` : 특정 시퀀스를 랜덤하게 섞는 함수입니다.\n",
        "\n",
        "```\n",
        "a = [1,2,3]\n",
        "random.shuffle(a)\n",
        "print(a)\n",
        "```\n",
        "\n"
      ]
    },
    {
      "cell_type": "code",
      "metadata": {
        "id": "_srXvBaG4Xmi",
        "colab": {
          "base_uri": "https://localhost:8080/"
        },
        "outputId": "5e2f48f6-78ce-41c3-fa6c-47fe7c17a3ec"
      },
      "source": [
        "a = [1,2,3]\n",
        "random.shuffle(a) # 바인딩 안함\n",
        "print(a)"
      ],
      "execution_count": 19,
      "outputs": [
        {
          "output_type": "stream",
          "name": "stdout",
          "text": [
            "[1, 3, 2]\n"
          ]
        }
      ]
    },
    {
      "cell_type": "markdown",
      "metadata": {
        "id": "qgwblcg16Qb7"
      },
      "source": [
        "# 예제\n",
        "---"
      ]
    },
    {
      "cell_type": "markdown",
      "metadata": {
        "id": "wEh21CAlIF5M"
      },
      "source": [
        "####**예제 01 여러번의 주사위**\n",
        "\n",
        "\n",
        "    - 주사위를 던지면 1에서 6까지 숫자가 랜덤으로 나옵니다.\n",
        "    - 주사위를 사용하여 입력한 만큼 돌리고 각숫자가 몇번씩 나왔는지 알려주는 함수를 작성하세요\n"
      ]
    },
    {
      "cell_type": "code",
      "metadata": {
        "id": "kv4kbTMuAoLN",
        "colab": {
          "base_uri": "https://localhost:8080/"
        },
        "outputId": "04ade23f-59a2-4eaf-8b3f-7a97467f81f1"
      },
      "source": [],
      "execution_count": 21,
      "outputs": [
        {
          "output_type": "execute_result",
          "data": {
            "text/plain": [
              "3"
            ]
          },
          "metadata": {},
          "execution_count": 21
        }
      ]
    },
    {
      "cell_type": "markdown",
      "metadata": {
        "id": "R_v3MPkG6zci"
      },
      "source": [
        "####**예제 02 업다운게임**\n",
        "\n",
        "    - 1~100까지 값이 랜덤하게 지정됩니다.\n",
        "    - 랜덤값(정답)이 사용자가 찍은 답보다 높으면 UP\n",
        "    - 랜덤값이 낮으면 DOWN\n",
        "    - 랜덤값을 맞추면 \"CORRECT\"를 출력합니다.\n",
        "    - 사용자가 랜덤값을 맞출 때까지 진행됩니다.\n"
      ]
    },
    {
      "cell_type": "code",
      "metadata": {
        "id": "rchkDnZE6y10"
      },
      "source": [],
      "execution_count": null,
      "outputs": []
    },
    {
      "cell_type": "markdown",
      "metadata": {
        "id": "l3NBAKiG7sD8"
      },
      "source": [
        "####**예제 03 숫자야구**\n",
        "\n",
        "    - 0~9까지 값을 지닌 3자리 숫자가 랜덤하게 지정됩니다.\n",
        "    - 각 자리 숫자는 중복되지 않아야 합니다.\n",
        "    - 맞춰야할 랜덤값 3개중 자리수에 상관없이 맞추면 \"볼\", 자리수까지 맞추면 \"홈런\" 입니다.\n",
        "    - 사용자가 지정된 랜덤값을 맞출 때까지 진행됩니다.\n",
        "\n",
        "\n",
        "\n",
        "* 아래 표는 랜덤값이 123일 때 사용자의 입력과 그에 따른 출력을 나타낸 표입니다. \n",
        "\n",
        "입력|출력\n",
        "---|---\n",
        "123| 3볼 3홈런\n",
        "132| 3볼 1홈런\n",
        "231| 3볼 0홈런 \n",
        "125| 2볼 2홈런\n",
        "\n"
      ]
    },
    {
      "cell_type": "code",
      "metadata": {
        "id": "T6yhNpAT6RsJ"
      },
      "source": [],
      "execution_count": null,
      "outputs": []
    },
    {
      "cell_type": "markdown",
      "metadata": {
        "id": "Mal9fB6ZmXXV"
      },
      "source": [
        "####**예제 04 같은 그림 맞추기**\n",
        "\n",
        "    - 숫자가 1부터 16까지 순서대로 나열됩니다. (4x4 크기).\n",
        "    - 숫자 두개를 고르면 고른 숫자카드 두개는 알파벳이 보여집니다. \n",
        "    - 두 알파벳이 동일하면 알파벳이 보여진채로 다음 숫자 두개를 고릅니다.\n",
        "    - 두 알파벳이 다르면 다시 숫자카드가 보인채로 다음 숫자 두개를 고릅니다.\n",
        "    - 알파벳이 모두 보여지면 게임이 끝납니다.\n",
        "\n",
        "* 예시\n",
        "\n",
        "```\n",
        ">> 같은그림 맞추기 시작! \n",
        "\n",
        "| 1| 2| 3| 4|\n",
        "| 5| 6| 7| 8|\n",
        "| 9|10|11|12|\n",
        "|13|14|15|16|\n",
        "\n",
        ">> 숫자1: 5\n",
        ">> 숫자2: 10\n",
        "\n",
        "| 1| 2| 3| 4|\n",
        "| A| 6| 7| 8|\n",
        "| 9| A|11|12|\n",
        "|13|14|15|16|\n",
        "\n",
        "```\n"
      ]
    },
    {
      "cell_type": "code",
      "source": [],
      "metadata": {
        "id": "hHpcw4MOJgjU"
      },
      "execution_count": null,
      "outputs": []
    },
    {
      "cell_type": "code",
      "source": [],
      "metadata": {
        "id": "Crt57k9kQy5W"
      },
      "execution_count": null,
      "outputs": []
    }
  ]
}