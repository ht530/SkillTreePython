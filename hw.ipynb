{
  "nbformat": 4,
  "nbformat_minor": 0,
  "metadata": {
    "colab": {
      "provenance": [],
      "include_colab_link": true
    },
    "kernelspec": {
      "name": "python3",
      "display_name": "Python 3"
    },
    "language_info": {
      "name": "python"
    }
  },
  "cells": [
    {
      "cell_type": "markdown",
      "metadata": {
        "id": "view-in-github",
        "colab_type": "text"
      },
      "source": [
        "<a href=\"https://colab.research.google.com/github/ht530/SkillTreePython/blob/main/hw.ipynb\" target=\"_parent\"><img src=\"https://colab.research.google.com/assets/colab-badge.svg\" alt=\"Open In Colab\"/></a>"
      ]
    },
    {
      "cell_type": "code",
      "source": [
        "import requests\n",
        "import json"
      ],
      "metadata": {
        "id": "bt12urUat6Gf"
      },
      "execution_count": 1,
      "outputs": []
    },
    {
      "cell_type": "code",
      "source": [
        "!pip install --upgrade gdown"
      ],
      "metadata": {
        "colab": {
          "base_uri": "https://localhost:8080/"
        },
        "id": "eqdTJkWhPuD-",
        "outputId": "cd5edd88-bd31-49f6-a6b3-558563b9cb08"
      },
      "execution_count": null,
      "outputs": [
        {
          "output_type": "stream",
          "name": "stdout",
          "text": [
            "Looking in indexes: https://pypi.org/simple, https://us-python.pkg.dev/colab-wheels/public/simple/\n",
            "Requirement already satisfied: gdown in /usr/local/lib/python3.8/dist-packages (4.6.0)\n",
            "Requirement already satisfied: beautifulsoup4 in /usr/local/lib/python3.8/dist-packages (from gdown) (4.6.3)\n",
            "Requirement already satisfied: tqdm in /usr/local/lib/python3.8/dist-packages (from gdown) (4.64.1)\n",
            "Requirement already satisfied: six in /usr/local/lib/python3.8/dist-packages (from gdown) (1.15.0)\n",
            "Requirement already satisfied: requests[socks] in /usr/local/lib/python3.8/dist-packages (from gdown) (2.23.0)\n",
            "Requirement already satisfied: filelock in /usr/local/lib/python3.8/dist-packages (from gdown) (3.8.2)\n",
            "Requirement already satisfied: idna<3,>=2.5 in /usr/local/lib/python3.8/dist-packages (from requests[socks]->gdown) (2.10)\n",
            "Requirement already satisfied: certifi>=2017.4.17 in /usr/local/lib/python3.8/dist-packages (from requests[socks]->gdown) (2022.12.7)\n",
            "Requirement already satisfied: chardet<4,>=3.0.2 in /usr/local/lib/python3.8/dist-packages (from requests[socks]->gdown) (3.0.4)\n",
            "Requirement already satisfied: urllib3!=1.25.0,!=1.25.1,<1.26,>=1.21.1 in /usr/local/lib/python3.8/dist-packages (from requests[socks]->gdown) (1.24.3)\n",
            "Requirement already satisfied: PySocks!=1.5.7,>=1.5.6 in /usr/local/lib/python3.8/dist-packages (from requests[socks]->gdown) (1.7.1)\n"
          ]
        }
      ]
    },
    {
      "cell_type": "code",
      "source": [
        "# https://drive.google.com/file/d/1R7i1XqmiJ_NirSEwQg1lLz6utzrTufVW/view?usp=share_link\n",
        "!gdown 1R7i1XqmiJ_NirSEwQg1lLz6utzrTufVW"
      ],
      "metadata": {
        "colab": {
          "base_uri": "https://localhost:8080/"
        },
        "id": "DgBq19XHPJ3v",
        "outputId": "4aeb07d7-c0cd-49d7-a848-b5bdc63dda38"
      },
      "execution_count": null,
      "outputs": [
        {
          "output_type": "stream",
          "name": "stdout",
          "text": [
            "Downloading...\n",
            "From: https://drive.google.com/uc?id=1R7i1XqmiJ_NirSEwQg1lLz6utzrTufVW\n",
            "To: /content/chkmethod.py\n",
            "\r  0% 0.00/1.65k [00:00<?, ?B/s]\r100% 1.65k/1.65k [00:00<00:00, 2.09MB/s]\n"
          ]
        }
      ]
    },
    {
      "cell_type": "code",
      "source": [
        "from chkmethod import check_str, check_strlist, check_range, check_num, summary"
      ],
      "metadata": {
        "id": "OQILOsSzPgTO"
      },
      "execution_count": null,
      "outputs": []
    },
    {
      "cell_type": "code",
      "source": [
        "import numpy as np\n",
        "import sympy as S\n",
        "\n",
        "ans = {}"
      ],
      "metadata": {
        "id": "6LaDr9vnoSBY"
      },
      "execution_count": 4,
      "outputs": []
    },
    {
      "cell_type": "markdown",
      "source": [
        "## 다음 어레이 `A`에 대해서 물음에 답하시오."
      ],
      "metadata": {
        "id": "UctoU4NIoIlx"
      }
    },
    {
      "cell_type": "code",
      "source": [],
      "metadata": {
        "colab": {
          "base_uri": "https://localhost:8080/",
          "height": 211
        },
        "id": "csdiIdgVKpZC",
        "outputId": "ea348d3e-01c9-49e7-feea-d717091d7869"
      },
      "execution_count": 22,
      "outputs": [
        {
          "output_type": "error",
          "ename": "TypeError",
          "evalue": "ignored",
          "traceback": [
            "\u001b[0;31m---------------------------------------------------------------------------\u001b[0m",
            "\u001b[0;31mTypeError\u001b[0m                                 Traceback (most recent call last)",
            "\u001b[0;32m<ipython-input-22-ad095b66485f>\u001b[0m in \u001b[0;36m<module>\u001b[0;34m\u001b[0m\n\u001b[1;32m      1\u001b[0m \u001b[0mnp\u001b[0m\u001b[0;34m.\u001b[0m\u001b[0maround\u001b[0m\u001b[0;34m(\u001b[0m\u001b[0;34m[\u001b[0m\u001b[0;36m0\u001b[0m\u001b[0;34m,\u001b[0m\u001b[0;36m2\u001b[0m\u001b[0;34m]\u001b[0m\u001b[0;34m)\u001b[0m\u001b[0;34m\u001b[0m\u001b[0;34m\u001b[0m\u001b[0m\n\u001b[0;32m----> 2\u001b[0;31m \u001b[0ma\u001b[0m \u001b[0;34m=\u001b[0m \u001b[0mround\u001b[0m\u001b[0;34m(\u001b[0m\u001b[0;34m[\u001b[0m\u001b[0;36m0\u001b[0m\u001b[0;34m,\u001b[0m\u001b[0;36m2\u001b[0m\u001b[0;34m]\u001b[0m\u001b[0;34m)\u001b[0m\u001b[0;34m\u001b[0m\u001b[0;34m\u001b[0m\u001b[0m\n\u001b[0m\u001b[1;32m      3\u001b[0m \u001b[0mprint\u001b[0m\u001b[0;34m(\u001b[0m\u001b[0ma\u001b[0m\u001b[0;34m)\u001b[0m\u001b[0;34m\u001b[0m\u001b[0;34m\u001b[0m\u001b[0m\n",
            "\u001b[0;31mTypeError\u001b[0m: type list doesn't define __round__ method"
          ]
        }
      ]
    },
    {
      "cell_type": "code",
      "source": [
        "np.random.seed(42)\n",
        "\n",
        "A = np.random.rand(10*3).reshape(10,3)\n",
        "A"
      ],
      "metadata": {
        "colab": {
          "base_uri": "https://localhost:8080/"
        },
        "id": "KYDA11EvoYQC",
        "outputId": "73db20e7-8321-411b-cdee-1e396476f45d"
      },
      "execution_count": null,
      "outputs": [
        {
          "output_type": "execute_result",
          "data": {
            "text/plain": [
              "array([[0.37454012, 0.95071431, 0.73199394],\n",
              "       [0.59865848, 0.15601864, 0.15599452],\n",
              "       [0.05808361, 0.86617615, 0.60111501],\n",
              "       [0.70807258, 0.02058449, 0.96990985],\n",
              "       [0.83244264, 0.21233911, 0.18182497],\n",
              "       [0.18340451, 0.30424224, 0.52475643],\n",
              "       [0.43194502, 0.29122914, 0.61185289],\n",
              "       [0.13949386, 0.29214465, 0.36636184],\n",
              "       [0.45606998, 0.78517596, 0.19967378],\n",
              "       [0.51423444, 0.59241457, 0.04645041]])"
            ]
          },
          "metadata": {},
          "execution_count": 6
        }
      ]
    },
    {
      "cell_type": "markdown",
      "source": [
        "### 1. 주어진 어레이 `A`의 3열 값을 0.5보다 같거나 크면 1, 0.5보다 작으면 0으로 바꾸고 1로 바뀐 것은 모두 몇개인지 계산하시오."
      ],
      "metadata": {
        "id": "wj5c0hxjrQyL"
      }
    },
    {
      "cell_type": "code",
      "source": [],
      "metadata": {
        "id": "L2D62PrBo1vj"
      },
      "execution_count": null,
      "outputs": []
    },
    {
      "cell_type": "code",
      "source": [
        "######################################################################\n",
        "# ans['p1']에 정답을 int()로 감싸서 int형으로 변환하여 대입하시오.\n",
        "######################################################################\n",
        "\n",
        "ans['p1'] = None"
      ],
      "metadata": {
        "id": "PiNBvMlnsQON"
      },
      "execution_count": null,
      "outputs": []
    },
    {
      "cell_type": "markdown",
      "source": [
        "### 2. 1번과 동일한 절차로 아래 만들어진 `(10000,3)`인 어레이의 3열에서 0.5보다 같거나 큰 숫자는 모두 몇개인지 계산하시오."
      ],
      "metadata": {
        "id": "G-vVsubprnhY"
      }
    },
    {
      "cell_type": "code",
      "source": [
        "np.random.seed(42)\n",
        "B = np.random.rand(10000*3).reshape(10000,3)\n"
      ],
      "metadata": {
        "id": "98InXtYiqGbO"
      },
      "execution_count": null,
      "outputs": []
    },
    {
      "cell_type": "code",
      "source": [
        "######################################################################\n",
        "# ans['p2']에 정답을 int()로 감싸서 int형으로 변환하여 대입하시오.\n",
        "######################################################################\n",
        "\n",
        "ans['p2'] = None"
      ],
      "metadata": {
        "id": "NMS5bomtsXAM"
      },
      "execution_count": null,
      "outputs": []
    },
    {
      "cell_type": "markdown",
      "source": [
        "## 다음 함수를 주어진 미분하기 위해 다음 문제에 답하시오.\n",
        "\n",
        "$$\n",
        "y = \\left( \\frac{\\sqrt{x}}{2} - 1 \\right)^{-10}\n",
        "$$\n",
        "\n",
        "\n"
      ],
      "metadata": {
        "id": "2KrQO1YtmpB7"
      }
    },
    {
      "cell_type": "markdown",
      "source": [
        "### 3. 심파이를 써서 도함수를 구하고 $x=1$ 에서 함수 값과 미분 계수를 계산하시오."
      ],
      "metadata": {
        "id": "jg9dOWxPmzv7"
      }
    },
    {
      "cell_type": "code",
      "source": [
        "import sympy\n",
        "\n",
        "sympy.init_printing(use_latex='mathjax')"
      ],
      "metadata": {
        "id": "yojeshZCm73m"
      },
      "execution_count": 9,
      "outputs": []
    },
    {
      "cell_type": "code",
      "source": [
        "######################################################################\n",
        "# ans['p3']에 정답을 float()로 감싸서 float형으로 변환하여 대입하시오.\n",
        "######################################################################\n",
        "'''\n",
        "x, y = sympy.symbols('x y')\n",
        "x\n",
        "y\n",
        "a = sympy.sqrt(x) #제곱근\n",
        "f = (a/2 -1)\n",
        "y\n",
        "#sympy.Rational(1,2) 1/2\n",
        "\n",
        "#f = sympy.exp(x)\n",
        "result = sympify(f)\n",
        "result.sub(x,1) # Substitution(대입)\n",
        "\n",
        "#ans['p3'] = None\n",
        "'''\n",
        "\n",
        "x = sympy.symbols('x')\n",
        "y = (sympy.sqrt(x)/2 -1) ** (-10)\n",
        "y"
      ],
      "metadata": {
        "id": "KWedaXr3sOPa",
        "colab": {
          "base_uri": "https://localhost:8080/",
          "height": 71
        },
        "outputId": "0468d6d6-acfd-4629-ceb8-1b95f296f9d5"
      },
      "execution_count": 13,
      "outputs": [
        {
          "output_type": "execute_result",
          "data": {
            "text/plain": [
              "    1     \n",
              "──────────\n",
              "        10\n",
              "⎛√x    ⎞  \n",
              "⎜── - 1⎟  \n",
              "⎝2     ⎠  "
            ],
            "text/latex": "$\\displaystyle \\frac{1}{\\left(\\frac{\\sqrt{x}}{2} - 1\\right)^{10}}$"
          },
          "metadata": {},
          "execution_count": 13
        }
      ]
    },
    {
      "cell_type": "code",
      "source": [
        "dy = sympy.diff(y, x)\n",
        "dy"
      ],
      "metadata": {
        "colab": {
          "base_uri": "https://localhost:8080/",
          "height": 71
        },
        "id": "Yf_MPwfnJs7v",
        "outputId": "7a1072fc-f0f9-47bb-d9a1-4572bee91c45"
      },
      "execution_count": 14,
      "outputs": [
        {
          "output_type": "execute_result",
          "data": {
            "text/plain": [
              "      -5       \n",
              "───────────────\n",
              "             11\n",
              "     ⎛√x    ⎞  \n",
              "2⋅√x⋅⎜── - 1⎟  \n",
              "     ⎝2     ⎠  "
            ],
            "text/latex": "$\\displaystyle - \\frac{5}{2 \\sqrt{x} \\left(\\frac{\\sqrt{x}}{2} - 1\\right)^{11}}$"
          },
          "metadata": {},
          "execution_count": 14
        }
      ]
    },
    {
      "cell_type": "code",
      "source": [
        "x0 = 1\n",
        "\n",
        "dy.subs({x:x0})"
      ],
      "metadata": {
        "colab": {
          "base_uri": "https://localhost:8080/",
          "height": 37
        },
        "id": "RMhpfi1XJy9H",
        "outputId": "c13d6a4c-b9a2-4f60-a809-22707b87930a"
      },
      "execution_count": 16,
      "outputs": [
        {
          "output_type": "execute_result",
          "data": {
            "text/plain": [
              "5120"
            ],
            "text/latex": "$\\displaystyle 5120$"
          },
          "metadata": {},
          "execution_count": 16
        }
      ]
    },
    {
      "cell_type": "code",
      "source": [
        "ans['p3'] = float(dy.subs({x:x0}))\n",
        "\n",
        "ans['p3']"
      ],
      "metadata": {
        "colab": {
          "base_uri": "https://localhost:8080/",
          "height": 37
        },
        "id": "zv2xsHYgKHFo",
        "outputId": "46c9b284-e902-4760-8c43-332fe7b4f94d"
      },
      "execution_count": 18,
      "outputs": [
        {
          "output_type": "execute_result",
          "data": {
            "text/plain": [
              "5120.0"
            ],
            "text/latex": "$\\displaystyle 5120.0$"
          },
          "metadata": {},
          "execution_count": 18
        }
      ]
    },
    {
      "cell_type": "markdown",
      "source": [
        "### 4. 주어진 함수를 자동 미분하기 위해 포워드 패스에서 변수의 거듭 제곱을 계산하고 백워드에서 포워드 패스 함수의 도함수 값을 계산하는 `pow(x, n)` 함수를 정의하시오. 그리고 $x=0.631$, $n=3$ 에서 함수값과 도함수 값을 구하시오."
      ],
      "metadata": {
        "id": "d7NRRmY-m9IK"
      }
    },
    {
      "cell_type": "code",
      "source": [
        "def pow(x, n):\n",
        "    # WRITE CODE HERE [+]\n",
        "    pass"
      ],
      "metadata": {
        "id": "5wHHBEeGnkCK"
      },
      "execution_count": null,
      "outputs": []
    },
    {
      "cell_type": "code",
      "source": [
        "#############################################################\n",
        "# ans['p4-1']에 함수값을 ans['p4-2']에 도함수값을 대입하시오.\n",
        "#############################################################\n",
        "# pow 는 내장함수와 math.pow()가 있는데 math.pow는 실수 반환 pow(x,y) x의 y승승\n",
        "\n",
        "ans['p4-1'] = None\n",
        "ans['p4-2'] = None"
      ],
      "metadata": {
        "id": "nB-EZyV2sn9P"
      },
      "execution_count": null,
      "outputs": []
    },
    {
      "cell_type": "markdown",
      "source": [
        "### 5. 제시된 `add()`와 `mul()` 그리고 문제 4에서 작성한 `pow()`를 사용하여 주어진 함수를 자동 미분하시오. 함수값과 미분 계수는 $x=1$에서 계산하시오."
      ],
      "metadata": {
        "id": "4ZmQklC1nklh"
      }
    },
    {
      "cell_type": "code",
      "source": [
        "def add(x, a):\n",
        "    return x+a, 1\n",
        "\n",
        "def mul(x, a):\n",
        "    return a*x, a"
      ],
      "metadata": {
        "id": "yj5WobCfn7U-"
      },
      "execution_count": null,
      "outputs": []
    },
    {
      "cell_type": "code",
      "source": [
        "x0 = 1\n",
        "\n",
        "# WRITE CODE HERE [+]\n"
      ],
      "metadata": {
        "id": "vdBjSQeHrEEx"
      },
      "execution_count": null,
      "outputs": []
    },
    {
      "cell_type": "code",
      "source": [
        "######################################################################\n",
        "# ans['p5-1']에 함수값을 대입하시오.\n",
        "######################################################################\n",
        "ans['p5-1'] = None\n",
        "\n",
        "######################################################################\n",
        "# ans['p5-2']에 미분계수를 대입하시오.\n",
        "######################################################################\n",
        "ans['p5-2'] = None"
      ],
      "metadata": {
        "id": "jTqgtsnrs17D"
      },
      "execution_count": null,
      "outputs": []
    },
    {
      "cell_type": "code",
      "source": [
        "# ans를 json으로 만들어서 서버에 post\n",
        "ans['p_set'] = '20230106_hkit'\n",
        "headers = {'Content-Type': 'application/json; chearset=utf-8'}\n",
        "response  = requests.post('https://metamath.pythonanywhere.com/solchk', \n",
        "                          data=json.dumps(ans, default=str), headers=headers)\n",
        "\n",
        "\n",
        "# 채점 결과가 들어있음\n",
        "res = json.loads(response.text)\n",
        "\n",
        "summary( res )"
      ],
      "metadata": {
        "colab": {
          "base_uri": "https://localhost:8080/"
        },
        "id": "tuJDMdu-uCxw",
        "outputId": "1f81d486-707d-450c-9fd3-eff049c4f8c5"
      },
      "execution_count": null,
      "outputs": [
        {
          "output_type": "stream",
          "name": "stdout",
          "text": [
            "p1: FAIL\n",
            "p2: FAIL\n",
            "p3: FAIL\n",
            "p4-1: FAIL\n",
            "p4-2: FAIL\n",
            "p5-1: FAIL\n",
            "p5-2: FAIL\n"
          ]
        }
      ]
    },
    {
      "cell_type": "code",
      "source": [],
      "metadata": {
        "id": "3WVR_SftwrKQ"
      },
      "execution_count": null,
      "outputs": []
    }
  ]
}